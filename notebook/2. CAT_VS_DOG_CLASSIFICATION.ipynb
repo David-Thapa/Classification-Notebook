{
  "cells": [
    {
      "cell_type": "markdown",
      "metadata": {
        "id": "d49Q3fAkwSUC"
      },
      "source": [
        "Importing Datasets from kaggle"
      ]
    },
    {
      "cell_type": "code",
      "execution_count": 2,
      "metadata": {
        "id": "Ib6XOR-0Sjc6"
      },
      "outputs": [],
      "source": [
        "!mkdir -p ~/.kaggle\n",
        "!cp kaggle.json ~/.kaggle/"
      ]
    },
    {
      "cell_type": "code",
      "execution_count": 3,
      "metadata": {
        "colab": {
          "base_uri": "https://localhost:8080/"
        },
        "id": "4p7bjmlpTimO",
        "outputId": "14b01bb2-59aa-4812-e2d2-5bf1abae7f6b"
      },
      "outputs": [
        {
          "name": "stdout",
          "output_type": "stream",
          "text": [
            "Warning: Your Kaggle API key is readable by other users on this system! To fix this, you can run 'chmod 600 /root/.kaggle/kaggle.json'\n",
            "Downloading dogs-cats-images.zip to /content\n",
            " 97% 420M/435M [00:02<00:00, 160MB/s]\n",
            "100% 435M/435M [00:02<00:00, 171MB/s]\n"
          ]
        }
      ],
      "source": [
        "!kaggle datasets download -d chetankv/dogs-cats-images"
      ]
    },
    {
      "cell_type": "code",
      "execution_count": 4,
      "metadata": {
        "id": "RCpyge4wT0G9"
      },
      "outputs": [],
      "source": [
        "import zipfile\n",
        "zip_ref = zipfile.ZipFile('/content/dogs-cats-images.zip','r')\n",
        "zip_ref.extractall('/content')\n",
        "zip_ref.close()"
      ]
    },
    {
      "cell_type": "code",
      "execution_count": 14,
      "metadata": {
        "id": "tGHuQpHEUHD-"
      },
      "outputs": [],
      "source": [
        "import tensorflow as tf\n",
        "from tensorflow.keras.models import Sequential\n",
        "from tensorflow.keras.layers import Dense,Conv2D,MaxPooling2D, Flatten, BatchNormalization, Dropout"
      ]
    },
    {
      "cell_type": "code",
      "execution_count": 6,
      "metadata": {
        "colab": {
          "base_uri": "https://localhost:8080/"
        },
        "id": "1S5VY5ZgUeiW",
        "outputId": "ddb0a06e-0fad-407c-c6c8-c3ba258bebfb"
      },
      "outputs": [
        {
          "name": "stdout",
          "output_type": "stream",
          "text": [
            "Found 8000 files belonging to 2 classes.\n",
            "Found 2000 files belonging to 2 classes.\n"
          ]
        }
      ],
      "source": [
        "train_dataset = tf.keras.utils.image_dataset_from_directory(\n",
        "    directory = \"/content/dataset/training_set\",\n",
        "    labels = \"inferred\",\n",
        "    label_mode = 'int',\n",
        "    batch_size = 32,\n",
        "    image_size = (256,256)\n",
        ")\n",
        "\n",
        "validation_dataset = tf.keras.utils.image_dataset_from_directory(\n",
        "    directory = \"/content/dataset/test_set\",\n",
        "    labels = \"inferred\",\n",
        "    label_mode = 'int',\n",
        "    batch_size = 32,\n",
        "    image_size = (256,256)\n",
        ")"
      ]
    },
    {
      "cell_type": "code",
      "execution_count": 7,
      "metadata": {
        "id": "JEqU7qN4UnFo"
      },
      "outputs": [],
      "source": [
        "def Normalize_0_1(image,label):\n",
        "    image = tf.cast(image/255.,tf.float32)\n",
        "    return image,label\n",
        "\n",
        "train_dataset = train_dataset.map(Normalize_0_1)\n",
        "validation_dataset = validation_dataset.map(Normalize_0_1)"
      ]
    },
    {
      "cell_type": "code",
      "execution_count": 8,
      "metadata": {
        "id": "FlaqfPkFUqIX"
      },
      "outputs": [],
      "source": [
        "model = Sequential([\n",
        "    Conv2D(32,kernel_size = (3,3),padding = \"valid\",activation = \"relu\", input_shape =(256,256,3)),\n",
        "    MaxPooling2D(pool_size = (2,2),strides = 2,padding = \"valid\"),\n",
        "\n",
        "    Conv2D(64,kernel_size = (3,3),padding = \"valid\",activation = \"relu\"),\n",
        "    MaxPooling2D(pool_size = (2,2),strides = 2,padding = \"valid\"),\n",
        "\n",
        "    Conv2D(128,kernel_size = (3,3),padding = \"valid\",activation = \"relu\"),\n",
        "    MaxPooling2D(pool_size = (2,2),strides = 2,padding = \"valid\"),\n",
        "    Flatten(),\n",
        "\n",
        "    Dense(128,activation = \"relu\"),\n",
        "    Dense(64,activation = \"relu\"),\n",
        "    Dense(1,activation = \"sigmoid\"),\n",
        "])"
      ]
    },
    {
      "cell_type": "code",
      "execution_count": 9,
      "metadata": {
        "colab": {
          "base_uri": "https://localhost:8080/"
        },
        "id": "3bL5e-nlUtOB",
        "outputId": "1cf2ba1c-192f-495e-ebdf-be2868f77fa2"
      },
      "outputs": [
        {
          "name": "stdout",
          "output_type": "stream",
          "text": [
            "Model: \"sequential\"\n",
            "_________________________________________________________________\n",
            " Layer (type)                Output Shape              Param #   \n",
            "=================================================================\n",
            " conv2d (Conv2D)             (None, 254, 254, 32)      896       \n",
            "                                                                 \n",
            " max_pooling2d (MaxPooling2  (None, 127, 127, 32)      0         \n",
            " D)                                                              \n",
            "                                                                 \n",
            " conv2d_1 (Conv2D)           (None, 125, 125, 64)      18496     \n",
            "                                                                 \n",
            " max_pooling2d_1 (MaxPoolin  (None, 62, 62, 64)        0         \n",
            " g2D)                                                            \n",
            "                                                                 \n",
            " conv2d_2 (Conv2D)           (None, 60, 60, 128)       73856     \n",
            "                                                                 \n",
            " max_pooling2d_2 (MaxPoolin  (None, 30, 30, 128)       0         \n",
            " g2D)                                                            \n",
            "                                                                 \n",
            " flatten (Flatten)           (None, 115200)            0         \n",
            "                                                                 \n",
            " dense (Dense)               (None, 128)               14745728  \n",
            "                                                                 \n",
            " dense_1 (Dense)             (None, 64)                8256      \n",
            "                                                                 \n",
            " dense_2 (Dense)             (None, 1)                 65        \n",
            "                                                                 \n",
            "=================================================================\n",
            "Total params: 14847297 (56.64 MB)\n",
            "Trainable params: 14847297 (56.64 MB)\n",
            "Non-trainable params: 0 (0.00 Byte)\n",
            "_________________________________________________________________\n"
          ]
        }
      ],
      "source": [
        "model.summary()"
      ]
    },
    {
      "cell_type": "code",
      "execution_count": 10,
      "metadata": {
        "id": "YdM4c3vrU6E1"
      },
      "outputs": [],
      "source": [
        "model.compile(optimizer= \"adam\",loss=\"binary_crossentropy\",metrics=['accuracy'])"
      ]
    },
    {
      "cell_type": "code",
      "execution_count": 11,
      "metadata": {
        "colab": {
          "base_uri": "https://localhost:8080/"
        },
        "id": "FXCqbE7TVBWW",
        "outputId": "c741e151-9b3b-4697-fbdf-e82cc0a64aef"
      },
      "outputs": [
        {
          "name": "stdout",
          "output_type": "stream",
          "text": [
            "Epoch 1/10\n",
            "250/250 [==============================] - 1149s 5s/step - loss: 0.6891 - accuracy: 0.5406 - val_loss: 0.6256 - val_accuracy: 0.6400\n",
            "Epoch 2/10\n",
            "250/250 [==============================] - 1126s 5s/step - loss: 0.6241 - accuracy: 0.6525 - val_loss: 0.5929 - val_accuracy: 0.6770\n",
            "Epoch 3/10\n",
            "250/250 [==============================] - 1087s 4s/step - loss: 0.5799 - accuracy: 0.6914 - val_loss: 0.5750 - val_accuracy: 0.7070\n",
            "Epoch 4/10\n",
            "250/250 [==============================] - 1080s 4s/step - loss: 0.4916 - accuracy: 0.7550 - val_loss: 0.6282 - val_accuracy: 0.7190\n",
            "Epoch 5/10\n",
            "250/250 [==============================] - 1086s 4s/step - loss: 0.3974 - accuracy: 0.8117 - val_loss: 0.6195 - val_accuracy: 0.7405\n",
            "Epoch 6/10\n",
            "250/250 [==============================] - 1086s 4s/step - loss: 0.2631 - accuracy: 0.8879 - val_loss: 0.8491 - val_accuracy: 0.7365\n",
            "Epoch 7/10\n",
            "250/250 [==============================] - 1134s 5s/step - loss: 0.1557 - accuracy: 0.9379 - val_loss: 1.0320 - val_accuracy: 0.7290\n",
            "Epoch 8/10\n",
            "250/250 [==============================] - 1102s 4s/step - loss: 0.1069 - accuracy: 0.9635 - val_loss: 1.1584 - val_accuracy: 0.7395\n",
            "Epoch 9/10\n",
            "250/250 [==============================] - 1068s 4s/step - loss: 0.0651 - accuracy: 0.9775 - val_loss: 1.4639 - val_accuracy: 0.7445\n",
            "Epoch 10/10\n",
            "250/250 [==============================] - 1059s 4s/step - loss: 0.0400 - accuracy: 0.9852 - val_loss: 1.6941 - val_accuracy: 0.7350\n"
          ]
        }
      ],
      "source": [
        "history = model.fit(train_dataset,epochs=10,validation_data=validation_dataset)"
      ]
    },
    {
      "cell_type": "code",
      "execution_count": 13,
      "metadata": {
        "id": "pC_gqWhe6Peg"
      },
      "outputs": [],
      "source": [
        "import pickle\n",
        "\n",
        "filename = 'cats_vs_dogs_trained_model'\n",
        "with open(filename, 'wb') as file:\n",
        "    pickle.dump(model, file)"
      ]
    },
    {
      "cell_type": "code",
      "execution_count": 12,
      "metadata": {
        "colab": {
          "base_uri": "https://localhost:8080/",
          "height": 430
        },
        "id": "41xXdpJT4B9G",
        "outputId": "9b52d91a-78be-402c-84d8-18a7ba13333a"
      },
      "outputs": [
        {
          "data": {
            "image/png": "[encoded data removed]",
            "text/plain": [
              "<Figure size 640x480 with 1 Axes>"
            ]
          },
          "metadata": {},
          "output_type": "display_data"
        }
      ],
      "source": [
        "import matplotlib.pyplot as plt\n",
        "\n",
        "plt.plot(history.history['accuracy'],color='red',label='train')\n",
        "plt.plot(history.history['val_accuracy'],color = 'blue',label='validation')\n",
        "plt.legend()\n",
        "plt.show()"
      ]
    },
    {
      "cell_type": "markdown",
      "metadata": {
        "id": "rFTTqyD5lifL"
      },
      "source": [
        "Using Batch normalization and dropout"
      ]
    },
    {
      "cell_type": "code",
      "execution_count": 19,
      "metadata": {
        "id": "110DHWJ1ZNsg"
      },
      "outputs": [],
      "source": [
        "model1 = Sequential([\n",
        "    Conv2D(32,kernel_size = (3,3),padding = \"valid\",activation = \"relu\", input_shape =(256,256,3)),\n",
        "    BatchNormalization(),\n",
        "    MaxPooling2D(pool_size = (2,2),strides = 2,padding = \"valid\"),\n",
        "\n",
        "    Conv2D(64,kernel_size = (3,3),padding = \"valid\",activation = \"relu\"),\n",
        "    BatchNormalization(),\n",
        "    MaxPooling2D(pool_size = (2,2),strides = 2,padding = \"valid\"),\n",
        "\n",
        "    Conv2D(128,kernel_size = (3,3),padding = \"valid\",activation = \"relu\"),\n",
        "    BatchNormalization(),\n",
        "    MaxPooling2D(pool_size = (2,2),strides = 2,padding = \"valid\"),\n",
        "    Flatten(),\n",
        "\n",
        "    Dense(128,activation = \"relu\"),\n",
        "    Dropout(0.1),\n",
        "    Dense(64,activation = \"relu\"),\n",
        "    Dropout(0.1),\n",
        "    Dense(1,activation = \"sigmoid\"),\n",
        "])"
      ]
    },
    {
      "cell_type": "code",
      "execution_count": 20,
      "metadata": {
        "colab": {
          "base_uri": "https://localhost:8080/"
        },
        "id": "2J85I8TWoJll",
        "outputId": "0401e8b9-7009-467b-cdf9-d8d5207614ad"
      },
      "outputs": [
        {
          "name": "stdout",
          "output_type": "stream",
          "text": [
            "Model: \"sequential_1\"\n",
            "_________________________________________________________________\n",
            " Layer (type)                Output Shape              Param #   \n",
            "=================================================================\n",
            " conv2d_3 (Conv2D)           (None, 254, 254, 32)      896       \n",
            "                                                                 \n",
            " batch_normalization (Batch  (None, 254, 254, 32)      128       \n",
            " Normalization)                                                  \n",
            "                                                                 \n",
            " max_pooling2d_3 (MaxPoolin  (None, 127, 127, 32)      0         \n",
            " g2D)                                                            \n",
            "                                                                 \n",
            " conv2d_4 (Conv2D)           (None, 125, 125, 64)      18496     \n",
            "                                                                 \n",
            " batch_normalization_1 (Bat  (None, 125, 125, 64)      256       \n",
            " chNormalization)                                                \n",
            "                                                                 \n",
            " max_pooling2d_4 (MaxPoolin  (None, 62, 62, 64)        0         \n",
            " g2D)                                                            \n",
            "                                                                 \n",
            " conv2d_5 (Conv2D)           (None, 60, 60, 128)       73856     \n",
            "                                                                 \n",
            " batch_normalization_2 (Bat  (None, 60, 60, 128)       512       \n",
            " chNormalization)                                                \n",
            "                                                                 \n",
            " max_pooling2d_5 (MaxPoolin  (None, 30, 30, 128)       0         \n",
            " g2D)                                                            \n",
            "                                                                 \n",
            " flatten_1 (Flatten)         (None, 115200)            0         \n",
            "                                                                 \n",
            " dense_3 (Dense)             (None, 128)               14745728  \n",
            "                                                                 \n",
            " dropout (Dropout)           (None, 128)               0         \n",
            "                                                                 \n",
            " dense_4 (Dense)             (None, 64)                8256      \n",
            "                                                                 \n",
            " dropout_1 (Dropout)         (None, 64)                0         \n",
            "                                                                 \n",
            " dense_5 (Dense)             (None, 1)                 65        \n",
            "                                                                 \n",
            "=================================================================\n",
            "Total params: 14848193 (56.64 MB)\n",
            "Trainable params: 14847745 (56.64 MB)\n",
            "Non-trainable params: 448 (1.75 KB)\n",
            "_________________________________________________________________\n"
          ]
        }
      ],
      "source": [
        "model1.summary()"
      ]
    },
    {
      "cell_type": "code",
      "execution_count": null,
      "metadata": {
        "colab": {
          "base_uri": "https://localhost:8080/"
        },
        "id": "FxtNyjTKliP6",
        "outputId": "0b642df1-f5a1-48fc-ed51-2a60739ec890"
      },
      "outputs": [
        {
          "name": "stdout",
          "output_type": "stream",
          "text": [
            "Epoch 1/10\n",
            "250/250 [==============================] - 1480s 6s/step - loss: 2.1811 - accuracy: 0.5566 - val_loss: 1.2080 - val_accuracy: 0.4930\n",
            "Epoch 2/10\n",
            "250/250 [==============================] - 1551s 6s/step - loss: 0.7672 - accuracy: 0.5970 - val_loss: 0.6481 - val_accuracy: 0.6040\n",
            "Epoch 3/10\n",
            "250/250 [==============================] - 1512s 6s/step - loss: 0.6187 - accuracy: 0.6640 - val_loss: 0.6778 - val_accuracy: 0.5570\n",
            "Epoch 4/10\n",
            "250/250 [==============================] - 1511s 6s/step - loss: 0.5546 - accuracy: 0.7188 - val_loss: 0.5553 - val_accuracy: 0.7175\n",
            "Epoch 5/10\n",
            "250/250 [==============================] - 1450s 6s/step - loss: 0.5092 - accuracy: 0.7499 - val_loss: 0.6659 - val_accuracy: 0.6860\n",
            "Epoch 6/10\n",
            "250/250 [==============================] - 1487s 6s/step - loss: 0.4524 - accuracy: 0.7897 - val_loss: 0.5110 - val_accuracy: 0.7605\n",
            "Epoch 7/10\n",
            "250/250 [==============================] - 1486s 6s/step - loss: 0.3816 - accuracy: 0.8274 - val_loss: 0.7508 - val_accuracy: 0.6355\n",
            "Epoch 8/10\n",
            "120/250 [=============>................] - ETA: 11:33 - loss: 0.3398 - accuracy: 0.8487"
          ]
        }
      ],
      "source": [
        "model1.compile(optimizer= \"adam\",loss=\"binary_crossentropy\",metrics=['accuracy'])\n",
        "history1 = model1.fit(train_dataset,epochs=10,validation_data=validation_dataset)"
      ]
    },
    {
      "cell_type": "code",
      "execution_count": null,
      "metadata": {
        "id": "P0egA_rHo04G"
      },
      "outputs": [],
      "source": [
        "filename = 'cats_vs_dogs_improved_model.pkl'\n",
        "with open(filename, 'wb') as file:\n",
        "    pickle.dump(model1, file)"
      ]
    },
    {
      "cell_type": "code",
      "execution_count": null,
      "metadata": {
        "id": "_K20qX-EpC2t"
      },
      "outputs": [],
      "source": [
        "plt.plot(history1.history['accuracy'],color='red',label='train')\n",
        "plt.plot(history1.history['val_accuracy'],color = 'blue',label='validation')\n",
        "plt.legend()\n",
        "plt.show()"
      ]
    }
  ],
  "metadata": {
    "colab": {
      "provenance": []
    },
    "kernelspec": {
      "display_name": "Python 3",
      "name": "python3"
    },
    "language_info": {
      "name": "python",
      "version": "3.10.13"
    }
  },
  "nbformat": 4,
  "nbformat_minor": 0
}
