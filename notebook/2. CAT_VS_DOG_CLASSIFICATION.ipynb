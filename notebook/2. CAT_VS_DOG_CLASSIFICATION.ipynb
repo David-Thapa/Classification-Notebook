{
  "cells": [
    {
      "cell_type": "markdown",
      "metadata": {
        "id": "d49Q3fAkwSUC"
      },
      "source": [
        "Importing Datasets from kaggle"
      ]
    },
    {
      "cell_type": "code",
      "execution_count": 1,
      "metadata": {
        "id": "Ib6XOR-0Sjc6"
      },
      "outputs": [],
      "source": [
        "!mkdir -p ~/.kaggle\n",
        "!cp kaggle.json ~/.kaggle/"
      ]
    },
    {
      "cell_type": "code",
      "execution_count": 2,
      "metadata": {
        "colab": {
          "base_uri": "https://localhost:8080/"
        },
        "id": "4p7bjmlpTimO",
        "outputId": "b35070b4-77a6-48e1-b4d9-7f85316fd9e2"
      },
      "outputs": [
        {
          "name": "stdout",
          "output_type": "stream",
          "text": [
            "Warning: Your Kaggle API key is readable by other users on this system! To fix this, you can run 'chmod 600 /root/.kaggle/kaggle.json'\n",
            "Downloading dogs-cats-images.zip to /content\n",
            " 99% 431M/435M [00:04<00:00, 54.9MB/s]\n",
            "100% 435M/435M [00:04<00:00, 96.6MB/s]\n"
          ]
        }
      ],
      "source": [
        "!kaggle datasets download -d chetankv/dogs-cats-images"
      ]
    },
    {
      "cell_type": "code",
      "execution_count": 3,
      "metadata": {
        "id": "RCpyge4wT0G9"
      },
      "outputs": [],
      "source": [
        "import zipfile\n",
        "zip_ref = zipfile.ZipFile('/content/dogs-cats-images.zip','r')\n",
        "zip_ref.extractall('/content')\n",
        "zip_ref.close()"
      ]
    },
    {
      "cell_type": "code",
      "execution_count": 22,
      "metadata": {
        "id": "tGHuQpHEUHD-"
      },
      "outputs": [],
      "source": [
        "import tensorflow as tf\n",
        "from tensorflow.keras.models import Sequential\n",
        "from tensorflow.keras.layers import Dense,Conv2D,MaxPooling2D, Flatten, BatchNormalization, Dropout\n",
        "import pickle\n",
        "from tensorflow.keras.regularizers import l2\n",
        "from tensorflow.keras.preprocessing.image import ImageDataGenerator\n",
        "\n",
        "import matplotlib.pyplot as plt\n",
        "%matplotlib inline\n"
      ]
    },
    {
      "cell_type": "markdown",
      "metadata": {
        "id": "KkitNGIgVwla"
      },
      "source": [
        "Before any changes:"
      ]
    },
    {
      "cell_type": "code",
      "execution_count": 5,
      "metadata": {
        "colab": {
          "base_uri": "https://localhost:8080/"
        },
        "id": "1S5VY5ZgUeiW",
        "outputId": "ecff74bc-a750-4da2-9c89-8664f6891f12"
      },
      "outputs": [
        {
          "name": "stdout",
          "output_type": "stream",
          "text": [
            "Found 8000 files belonging to 2 classes.\n",
            "Found 2000 files belonging to 2 classes.\n"
          ]
        }
      ],
      "source": [
        "train_dataset = tf.keras.utils.image_dataset_from_directory(\n",
        "    directory = \"/content/dataset/training_set\",\n",
        "    labels = \"inferred\",\n",
        "    label_mode = 'int',\n",
        "    batch_size = 32,\n",
        "    image_size = (256,256)\n",
        ")\n",
        "\n",
        "validation_dataset = tf.keras.utils.image_dataset_from_directory(\n",
        "    directory = \"/content/dataset/test_set\",\n",
        "    labels = \"inferred\",\n",
        "    label_mode = 'int',\n",
        "    batch_size = 32,\n",
        "    image_size = (256,256)\n",
        ")"
      ]
    },
    {
      "cell_type": "code",
      "execution_count": 6,
      "metadata": {
        "id": "JEqU7qN4UnFo"
      },
      "outputs": [],
      "source": [
        "def Normalize_0_1(image,label):\n",
        "    image = tf.cast(image/255.,tf.float32)\n",
        "    return image,label\n",
        "\n",
        "train_dataset = train_dataset.map(Normalize_0_1)\n",
        "validation_dataset = validation_dataset.map(Normalize_0_1)"
      ]
    },
    {
      "cell_type": "markdown",
      "metadata": {
        "id": "KAKfRrvIVscs"
      },
      "source": [
        "After some changes"
      ]
    },
    {
      "cell_type": "code",
      "execution_count": 25,
      "metadata": {
        "colab": {
          "base_uri": "https://localhost:8080/"
        },
        "id": "W1LIq_raVqHb",
        "outputId": "43b18605-998b-48dc-d081-b5e3c9d431e1"
      },
      "outputs": [
        {
          "name": "stdout",
          "output_type": "stream",
          "text": [
            "Found 8000 images belonging to 2 classes.\n",
            "Found 2000 images belonging to 2 classes.\n"
          ]
        }
      ],
      "source": [
        "train_datagen = ImageDataGenerator(\n",
        "    rescale=1./255,\n",
        "    shear_range=0.2,\n",
        "    zoom_range=0.2,\n",
        "    horizontal_flip=True,\n",
        "    preprocessing_function=lambda x: x / 255.0  # Normalization function\n",
        ")\n",
        "\n",
        "validation_datagen = ImageDataGenerator(rescale=1./255)\n",
        "\n",
        "train_generator = train_datagen.flow_from_directory(\n",
        "    '/content/dataset/training_set',\n",
        "    target_size=(256, 256),\n",
        "    batch_size=32,\n",
        "    class_mode='binary'\n",
        ")\n",
        "\n",
        "validation_generator = validation_datagen.flow_from_directory(\n",
        "    '/content/dataset/test_set',\n",
        "    target_size=(256, 256),\n",
        "    batch_size=32,\n",
        "    class_mode='binary'\n",
        ")"
      ]
    },
    {
      "cell_type": "code",
      "execution_count": null,
      "metadata": {
        "id": "Z0C_l_KorD5m"
      },
      "outputs": [],
      "source": [
        "# train_subset = train_dataset.take(2400)\n",
        "# val_subset = validation_dataset.take(600)"
      ]
    },
    {
      "cell_type": "code",
      "execution_count": null,
      "metadata": {
        "id": "hVQwu8zSrQcx"
      },
      "outputs": [],
      "source": [
        "# print(train_subset)\n",
        "# print(val_subset)"
      ]
    },
    {
      "cell_type": "markdown",
      "metadata": {
        "id": "SHVE8fhrWM_s"
      },
      "source": [
        "first model"
      ]
    },
    {
      "cell_type": "code",
      "execution_count": null,
      "metadata": {
        "id": "FlaqfPkFUqIX"
      },
      "outputs": [],
      "source": [
        "model = Sequential([\n",
        "    Conv2D(32,kernel_size = (3,3),padding = \"valid\",activation = \"relu\", input_shape =(256,256,3)),\n",
        "    MaxPooling2D(pool_size = (2,2),strides = 2,padding = \"valid\"),\n",
        "\n",
        "    Conv2D(64,kernel_size = (3,3),padding = \"valid\",activation = \"relu\"),\n",
        "    MaxPooling2D(pool_size = (2,2),strides = 2,padding = \"valid\"),\n",
        "\n",
        "    Conv2D(128,kernel_size = (3,3),padding = \"valid\",activation = \"relu\"),\n",
        "    MaxPooling2D(pool_size = (2,2),strides = 2,padding = \"valid\"),\n",
        "    Flatten(),\n",
        "\n",
        "    Dense(128,activation = \"relu\"),\n",
        "    Dense(64,activation = \"relu\"),\n",
        "    Dense(1,activation = \"sigmoid\"),\n",
        "])"
      ]
    },
    {
      "cell_type": "code",
      "execution_count": null,
      "metadata": {
        "colab": {
          "base_uri": "https://localhost:8080/"
        },
        "id": "3bL5e-nlUtOB",
        "outputId": "1cf2ba1c-192f-495e-ebdf-be2868f77fa2"
      },
      "outputs": [
        {
          "name": "stdout",
          "output_type": "stream",
          "text": [
            "Model: \"sequential\"\n",
            "_________________________________________________________________\n",
            " Layer (type)                Output Shape              Param #   \n",
            "=================================================================\n",
            " conv2d (Conv2D)             (None, 254, 254, 32)      896       \n",
            "                                                                 \n",
            " max_pooling2d (MaxPooling2  (None, 127, 127, 32)      0         \n",
            " D)                                                              \n",
            "                                                                 \n",
            " conv2d_1 (Conv2D)           (None, 125, 125, 64)      18496     \n",
            "                                                                 \n",
            " max_pooling2d_1 (MaxPoolin  (None, 62, 62, 64)        0         \n",
            " g2D)                                                            \n",
            "                                                                 \n",
            " conv2d_2 (Conv2D)           (None, 60, 60, 128)       73856     \n",
            "                                                                 \n",
            " max_pooling2d_2 (MaxPoolin  (None, 30, 30, 128)       0         \n",
            " g2D)                                                            \n",
            "                                                                 \n",
            " flatten (Flatten)           (None, 115200)            0         \n",
            "                                                                 \n",
            " dense (Dense)               (None, 128)               14745728  \n",
            "                                                                 \n",
            " dense_1 (Dense)             (None, 64)                8256      \n",
            "                                                                 \n",
            " dense_2 (Dense)             (None, 1)                 65        \n",
            "                                                                 \n",
            "=================================================================\n",
            "Total params: 14847297 (56.64 MB)\n",
            "Trainable params: 14847297 (56.64 MB)\n",
            "Non-trainable params: 0 (0.00 Byte)\n",
            "_________________________________________________________________\n"
          ]
        }
      ],
      "source": [
        "model.summary()"
      ]
    },
    {
      "cell_type": "code",
      "execution_count": null,
      "metadata": {
        "id": "YdM4c3vrU6E1"
      },
      "outputs": [],
      "source": [
        "model.compile(optimizer= \"adam\",loss=\"binary_crossentropy\",metrics=['accuracy'])"
      ]
    },
    {
      "cell_type": "code",
      "execution_count": null,
      "metadata": {
        "colab": {
          "base_uri": "https://localhost:8080/"
        },
        "id": "FXCqbE7TVBWW",
        "outputId": "c741e151-9b3b-4697-fbdf-e82cc0a64aef"
      },
      "outputs": [
        {
          "name": "stdout",
          "output_type": "stream",
          "text": [
            "Epoch 1/10\n",
            "250/250 [==============================] - 1149s 5s/step - loss: 0.6891 - accuracy: 0.5406 - val_loss: 0.6256 - val_accuracy: 0.6400\n",
            "Epoch 2/10\n",
            "250/250 [==============================] - 1126s 5s/step - loss: 0.6241 - accuracy: 0.6525 - val_loss: 0.5929 - val_accuracy: 0.6770\n",
            "Epoch 3/10\n",
            "250/250 [==============================] - 1087s 4s/step - loss: 0.5799 - accuracy: 0.6914 - val_loss: 0.5750 - val_accuracy: 0.7070\n",
            "Epoch 4/10\n",
            "250/250 [==============================] - 1080s 4s/step - loss: 0.4916 - accuracy: 0.7550 - val_loss: 0.6282 - val_accuracy: 0.7190\n",
            "Epoch 5/10\n",
            "250/250 [==============================] - 1086s 4s/step - loss: 0.3974 - accuracy: 0.8117 - val_loss: 0.6195 - val_accuracy: 0.7405\n",
            "Epoch 6/10\n",
            "250/250 [==============================] - 1086s 4s/step - loss: 0.2631 - accuracy: 0.8879 - val_loss: 0.8491 - val_accuracy: 0.7365\n",
            "Epoch 7/10\n",
            "250/250 [==============================] - 1134s 5s/step - loss: 0.1557 - accuracy: 0.9379 - val_loss: 1.0320 - val_accuracy: 0.7290\n",
            "Epoch 8/10\n",
            "250/250 [==============================] - 1102s 4s/step - loss: 0.1069 - accuracy: 0.9635 - val_loss: 1.1584 - val_accuracy: 0.7395\n",
            "Epoch 9/10\n",
            "250/250 [==============================] - 1068s 4s/step - loss: 0.0651 - accuracy: 0.9775 - val_loss: 1.4639 - val_accuracy: 0.7445\n",
            "Epoch 10/10\n",
            "250/250 [==============================] - 1059s 4s/step - loss: 0.0400 - accuracy: 0.9852 - val_loss: 1.6941 - val_accuracy: 0.7350\n"
          ]
        }
      ],
      "source": [
        "history = model.fit(train_dataset,epochs=10,validation_data=validation_dataset)"
      ]
    },
    {
      "cell_type": "code",
      "execution_count": null,
      "metadata": {
        "id": "pC_gqWhe6Peg"
      },
      "outputs": [],
      "source": [
        "filename = 'cats_vs_dogs_trained_model'\n",
        "with open(filename, 'wb') as file:\n",
        "    pickle.dump(model, file)"
      ]
    },
    {
      "cell_type": "code",
      "execution_count": null,
      "metadata": {
        "colab": {
          "base_uri": "https://localhost:8080/",
          "height": 430
        },
        "id": "41xXdpJT4B9G",
        "outputId": "9b52d91a-78be-402c-84d8-18a7ba13333a"
      },
      "outputs": [
        {
          "data": {
            "image/png": "[encoded data removed]",
            "text/plain": [
              "<Figure size 640x480 with 1 Axes>"
            ]
          },
          "metadata": {},
          "output_type": "display_data"
        }
      ],
      "source": [
        "plt.plot(history.history['accuracy'],color='red',label='train')\n",
        "plt.plot(history.history['val_accuracy'],color = 'blue',label='validation')\n",
        "plt.legend()\n",
        "plt.show()"
      ]
    },
    {
      "cell_type": "markdown",
      "metadata": {
        "id": "rFTTqyD5lifL"
      },
      "source": [
        "Using Batch normalization and dropout"
      ]
    },
    {
      "cell_type": "code",
      "execution_count": 7,
      "metadata": {
        "id": "110DHWJ1ZNsg"
      },
      "outputs": [],
      "source": [
        "model1 = Sequential([\n",
        "    Conv2D(32,kernel_size = (3,3),padding = \"valid\",activation = \"relu\", input_shape =(256,256,3)),\n",
        "    BatchNormalization(),\n",
        "    MaxPooling2D(pool_size = (2,2),strides = 2,padding = \"valid\"),\n",
        "\n",
        "    Conv2D(64,kernel_size = (3,3),padding = \"valid\",activation = \"relu\"),\n",
        "    BatchNormalization(),\n",
        "    MaxPooling2D(pool_size = (2,2),strides = 2,padding = \"valid\"),\n",
        "\n",
        "    Conv2D(128,kernel_size = (3,3),padding = \"valid\",activation = \"relu\"),\n",
        "    BatchNormalization(),\n",
        "    MaxPooling2D(pool_size = (2,2),strides = 2,padding = \"valid\"),\n",
        "    Flatten(),\n",
        "\n",
        "    Dense(128,activation = \"relu\"),\n",
        "    Dropout(0.1),\n",
        "    Dense(64,activation = \"relu\"),\n",
        "    Dropout(0.1),\n",
        "    Dense(1,activation = \"sigmoid\"),\n",
        "])"
      ]
    },
    {
      "cell_type": "code",
      "execution_count": null,
      "metadata": {
        "colab": {
          "base_uri": "https://localhost:8080/"
        },
        "id": "FxtNyjTKliP6",
        "outputId": "36cbd9ad-9210-4129-899b-939d4204489c"
      },
      "outputs": [
        {
          "name": "stdout",
          "output_type": "stream",
          "text": [
            "Epoch 1/10\n",
            "250/250 [==============================] - 1518s 6s/step - loss: 2.1091 - accuracy: 0.5454 - val_loss: 1.4534 - val_accuracy: 0.4980\n",
            "Epoch 2/10\n",
            "250/250 [==============================] - 1455s 6s/step - loss: 0.7711 - accuracy: 0.5585 - val_loss: 1.0423 - val_accuracy: 0.5820\n",
            "Epoch 3/10\n",
            "250/250 [==============================] - 1417s 6s/step - loss: 0.6547 - accuracy: 0.6237 - val_loss: 0.6258 - val_accuracy: 0.6540\n",
            "Epoch 4/10\n",
            "250/250 [==============================] - 1462s 6s/step - loss: 0.6283 - accuracy: 0.6727 - val_loss: 0.6116 - val_accuracy: 0.6655\n",
            "Epoch 5/10\n",
            "250/250 [==============================] - 1459s 6s/step - loss: 0.5816 - accuracy: 0.7017 - val_loss: 0.6169 - val_accuracy: 0.6605\n",
            "Epoch 6/10\n",
            "250/250 [==============================] - 1455s 6s/step - loss: 0.5409 - accuracy: 0.7303 - val_loss: 0.6194 - val_accuracy: 0.6900\n",
            "Epoch 7/10\n",
            "250/250 [==============================] - 1452s 6s/step - loss: 0.4927 - accuracy: 0.7644 - val_loss: 0.5699 - val_accuracy: 0.7175\n",
            "Epoch 8/10\n",
            "250/250 [==============================] - 1453s 6s/step - loss: 0.4442 - accuracy: 0.7956 - val_loss: 0.5465 - val_accuracy: 0.7485\n",
            "Epoch 9/10\n",
            "250/250 [==============================] - 1459s 6s/step - loss: 0.4095 - accuracy: 0.8138 - val_loss: 0.6618 - val_accuracy: 0.7180\n",
            "Epoch 10/10\n",
            "250/250 [==============================] - 1399s 6s/step - loss: 0.3530 - accuracy: 0.8380 - val_loss: 0.7163 - val_accuracy: 0.7170\n"
          ]
        }
      ],
      "source": [
        "model1.compile(optimizer=\"adam\", loss=\"binary_crossentropy\", metrics=['accuracy'])\n",
        "history1 = model1.fit(train_dataset, epochs=10, validation_data=validation_dataset)"
      ]
    },
    {
      "cell_type": "code",
      "execution_count": null,
      "metadata": {
        "id": "P0egA_rHo04G"
      },
      "outputs": [],
      "source": [
        "filename = 'cats_vs_dogs_improved_model.pkl'\n",
        "with open(filename, 'wb') as file:\n",
        "    pickle.dump(model1, file)"
      ]
    },
    {
      "cell_type": "code",
      "execution_count": null,
      "metadata": {
        "colab": {
          "base_uri": "https://localhost:8080/",
          "height": 430
        },
        "id": "_K20qX-EpC2t",
        "outputId": "c862c632-0c28-4cf8-cdf2-57d899f1ff74"
      },
      "outputs": [
        {
          "data": {
            "image/png": "[encoded data removed]",
            "text/plain": [
              "<Figure size 640x480 with 1 Axes>"
            ]
          },
          "metadata": {},
          "output_type": "display_data"
        }
      ],
      "source": [
        "plt.plot(history1.history['accuracy'],color='red',label='train')\n",
        "plt.plot(history1.history['val_accuracy'],color = 'blue',label='validation')\n",
        "plt.legend()\n",
        "plt.show()"
      ]
    },
    {
      "cell_type": "code",
      "execution_count": 9,
      "metadata": {
        "colab": {
          "base_uri": "https://localhost:8080/"
        },
        "id": "VJiUFpq4LNs6",
        "outputId": "3ed035c4-5887-44d6-a170-a7316822bfc5"
      },
      "outputs": [
        {
          "name": "stdout",
          "output_type": "stream",
          "text": [
            "Epoch 1/20\n",
            "250/250 [==============================] - 37s 112ms/step - loss: 2.0475 - accuracy: 0.5648 - val_loss: 0.9899 - val_accuracy: 0.5160\n",
            "Epoch 2/20\n",
            "250/250 [==============================] - 27s 105ms/step - loss: 0.6990 - accuracy: 0.6277 - val_loss: 0.6588 - val_accuracy: 0.6190\n",
            "Epoch 3/20\n",
            "250/250 [==============================] - 29s 113ms/step - loss: 0.5765 - accuracy: 0.6992 - val_loss: 0.5976 - val_accuracy: 0.6670\n",
            "Epoch 4/20\n",
            "250/250 [==============================] - 26s 105ms/step - loss: 0.5319 - accuracy: 0.7355 - val_loss: 0.5947 - val_accuracy: 0.6795\n",
            "Epoch 5/20\n",
            "250/250 [==============================] - 29s 116ms/step - loss: 0.4886 - accuracy: 0.7673 - val_loss: 0.6382 - val_accuracy: 0.7305\n",
            "Epoch 6/20\n",
            "250/250 [==============================] - 26s 104ms/step - loss: 0.4146 - accuracy: 0.8075 - val_loss: 0.6144 - val_accuracy: 0.7110\n",
            "Epoch 7/20\n",
            "250/250 [==============================] - 26s 104ms/step - loss: 0.3542 - accuracy: 0.8440 - val_loss: 0.5779 - val_accuracy: 0.7560\n",
            "Epoch 8/20\n",
            "250/250 [==============================] - 27s 107ms/step - loss: 0.2931 - accuracy: 0.8725 - val_loss: 0.8028 - val_accuracy: 0.7310\n",
            "Epoch 9/20\n",
            "250/250 [==============================] - 26s 103ms/step - loss: 0.2324 - accuracy: 0.9061 - val_loss: 0.7012 - val_accuracy: 0.7545\n",
            "Epoch 10/20\n",
            "250/250 [==============================] - 27s 107ms/step - loss: 0.1790 - accuracy: 0.9299 - val_loss: 1.0552 - val_accuracy: 0.7155\n",
            "Epoch 11/20\n",
            "250/250 [==============================] - 28s 111ms/step - loss: 0.1453 - accuracy: 0.9436 - val_loss: 0.9160 - val_accuracy: 0.7390\n",
            "Epoch 12/20\n",
            "250/250 [==============================] - 29s 113ms/step - loss: 0.1173 - accuracy: 0.9548 - val_loss: 0.9517 - val_accuracy: 0.7690\n",
            "Epoch 13/20\n",
            "250/250 [==============================] - 28s 113ms/step - loss: 0.1049 - accuracy: 0.9606 - val_loss: 0.8576 - val_accuracy: 0.7735\n",
            "Epoch 14/20\n",
            "250/250 [==============================] - 29s 114ms/step - loss: 0.0732 - accuracy: 0.9749 - val_loss: 1.1825 - val_accuracy: 0.7460\n",
            "Epoch 15/20\n",
            "250/250 [==============================] - 29s 113ms/step - loss: 0.0626 - accuracy: 0.9786 - val_loss: 1.1030 - val_accuracy: 0.7845\n",
            "Epoch 16/20\n",
            "250/250 [==============================] - 27s 106ms/step - loss: 0.0609 - accuracy: 0.9785 - val_loss: 0.9887 - val_accuracy: 0.7715\n",
            "Epoch 17/20\n",
            "250/250 [==============================] - 27s 107ms/step - loss: 0.0408 - accuracy: 0.9872 - val_loss: 1.1766 - val_accuracy: 0.7615\n",
            "Epoch 18/20\n",
            "250/250 [==============================] - 27s 107ms/step - loss: 0.0517 - accuracy: 0.9843 - val_loss: 1.3216 - val_accuracy: 0.7325\n",
            "Epoch 19/20\n",
            "250/250 [==============================] - 28s 111ms/step - loss: 0.0400 - accuracy: 0.9861 - val_loss: 1.2509 - val_accuracy: 0.7640\n",
            "Epoch 20/20\n",
            "250/250 [==============================] - 26s 104ms/step - loss: 0.0511 - accuracy: 0.9843 - val_loss: 1.0696 - val_accuracy: 0.7455\n"
          ]
        }
      ],
      "source": [
        "model1.compile(optimizer=\"adam\", loss=\"binary_crossentropy\", metrics=['accuracy'])\n",
        "history2 = model1.fit(train_dataset, epochs=20, validation_data=validation_dataset)"
      ]
    },
    {
      "cell_type": "code",
      "execution_count": 10,
      "metadata": {
        "colab": {
          "base_uri": "https://localhost:8080/",
          "height": 430
        },
        "id": "NwXoolfkOD6n",
        "outputId": "c2121168-28d5-4ab5-b497-594830be60e1"
      },
      "outputs": [
        {
          "data": {
            "image/png": "[encoded data removed]",
            "text/plain": [
              "<Figure size 640x480 with 1 Axes>"
            ]
          },
          "metadata": {},
          "output_type": "display_data"
        }
      ],
      "source": [
        "plt.plot(history2.history['accuracy'],color='red',label='train')\n",
        "plt.plot(history2.history['val_accuracy'],color = 'blue',label='validation')\n",
        "plt.legend()\n",
        "plt.show()"
      ]
    },
    {
      "cell_type": "code",
      "execution_count": 28,
      "metadata": {
        "id": "4oeD6DA9DPfL"
      },
      "outputs": [],
      "source": [
        "model2 = Sequential([\n",
        "    Conv2D(32,kernel_size = (3,3),padding = \"valid\",activation = \"relu\", input_shape =(256,256,3)),\n",
        "    BatchNormalization(),\n",
        "    MaxPooling2D(pool_size = (2,2),strides = 2,padding = \"valid\"),\n",
        "\n",
        "    Conv2D(64,kernel_size = (3,3),padding = \"valid\",activation = \"relu\"),\n",
        "    BatchNormalization(),\n",
        "    MaxPooling2D(pool_size = (2,2),strides = 2,padding = \"valid\"),\n",
        "\n",
        "    Conv2D(128,kernel_size = (3,3),padding = \"valid\",activation = \"relu\"),\n",
        "    BatchNormalization(),\n",
        "    MaxPooling2D(pool_size = (2,2),strides = 2,padding = \"valid\"),\n",
        "    Flatten(),\n",
        "\n",
        "    Dense(128,activation = \"relu\", kernel_regularizer=l2(0.01)),\n",
        "    Dropout(0.3),\n",
        "    Dense(64,activation = \"relu\", kernel_regularizer=l2(0.01)),\n",
        "    Dropout(0.3),\n",
        "    Dense(1,activation = \"sigmoid\"),\n",
        "])"
      ]
    },
    {
      "cell_type": "code",
      "execution_count": 29,
      "metadata": {
        "colab": {
          "base_uri": "https://localhost:8080/"
        },
        "id": "y8ZnG4m0GHj_",
        "outputId": "eec79f7b-9213-459a-deae-c50e6a892647"
      },
      "outputs": [
        {
          "name": "stdout",
          "output_type": "stream",
          "text": [
            "Epoch 1/50\n",
            "250/250 [==============================] - 35s 114ms/step - loss: 9.2444 - accuracy: 0.5270 - val_loss: 5.2033 - val_accuracy: 0.5185\n",
            "Epoch 2/50\n",
            "250/250 [==============================] - 27s 107ms/step - loss: 2.6749 - accuracy: 0.5216 - val_loss: 1.7984 - val_accuracy: 0.5205\n",
            "Epoch 3/50\n",
            "250/250 [==============================] - 27s 106ms/step - loss: 1.8895 - accuracy: 0.5351 - val_loss: 1.4774 - val_accuracy: 0.5585\n",
            "Epoch 4/50\n",
            "250/250 [==============================] - 29s 114ms/step - loss: 1.5008 - accuracy: 0.5353 - val_loss: 1.5056 - val_accuracy: 0.6310\n",
            "Epoch 5/50\n",
            "250/250 [==============================] - 27s 105ms/step - loss: 1.5719 - accuracy: 0.6004 - val_loss: 1.7614 - val_accuracy: 0.5600\n",
            "Epoch 6/50\n",
            "250/250 [==============================] - 28s 108ms/step - loss: 1.5335 - accuracy: 0.6118 - val_loss: 1.3340 - val_accuracy: 0.6385\n",
            "Epoch 7/50\n",
            "250/250 [==============================] - 29s 114ms/step - loss: 1.2296 - accuracy: 0.6733 - val_loss: 1.2117 - val_accuracy: 0.7170\n",
            "Epoch 8/50\n",
            "250/250 [==============================] - 29s 114ms/step - loss: 1.1207 - accuracy: 0.7039 - val_loss: 1.0796 - val_accuracy: 0.7040\n",
            "Epoch 9/50\n",
            "250/250 [==============================] - 27s 106ms/step - loss: 1.0548 - accuracy: 0.7339 - val_loss: 1.3240 - val_accuracy: 0.7390\n",
            "Epoch 10/50\n",
            "250/250 [==============================] - 27s 105ms/step - loss: 1.0761 - accuracy: 0.7519 - val_loss: 1.1340 - val_accuracy: 0.7430\n",
            "Epoch 11/50\n",
            "250/250 [==============================] - 29s 114ms/step - loss: 1.0246 - accuracy: 0.7552 - val_loss: 0.9567 - val_accuracy: 0.7490\n",
            "Epoch 12/50\n",
            "250/250 [==============================] - 27s 106ms/step - loss: 1.0030 - accuracy: 0.7648 - val_loss: 1.3266 - val_accuracy: 0.6240\n",
            "Epoch 13/50\n",
            "250/250 [==============================] - 29s 114ms/step - loss: 1.0497 - accuracy: 0.7800 - val_loss: 1.0551 - val_accuracy: 0.7815\n",
            "Epoch 14/50\n",
            "250/250 [==============================] - 27s 105ms/step - loss: 1.0062 - accuracy: 0.7925 - val_loss: 1.0813 - val_accuracy: 0.7695\n",
            "Epoch 15/50\n",
            "250/250 [==============================] - 27s 106ms/step - loss: 1.0618 - accuracy: 0.8035 - val_loss: 1.1539 - val_accuracy: 0.7755\n",
            "Epoch 16/50\n",
            "250/250 [==============================] - 27s 106ms/step - loss: 1.1003 - accuracy: 0.8139 - val_loss: 1.1925 - val_accuracy: 0.7870\n",
            "Epoch 17/50\n",
            "250/250 [==============================] - 29s 113ms/step - loss: 1.1878 - accuracy: 0.8230 - val_loss: 1.4127 - val_accuracy: 0.6960\n",
            "Epoch 18/50\n",
            "250/250 [==============================] - 27s 105ms/step - loss: 1.2283 - accuracy: 0.8280 - val_loss: 1.3401 - val_accuracy: 0.7460\n",
            "Epoch 19/50\n",
            "250/250 [==============================] - 29s 114ms/step - loss: 1.1726 - accuracy: 0.8391 - val_loss: 1.3220 - val_accuracy: 0.8035\n",
            "Epoch 20/50\n",
            "250/250 [==============================] - 27s 105ms/step - loss: 1.2387 - accuracy: 0.8470 - val_loss: 1.3447 - val_accuracy: 0.8090\n",
            "Epoch 21/50\n",
            "250/250 [==============================] - 27s 105ms/step - loss: 1.2476 - accuracy: 0.8631 - val_loss: 1.3421 - val_accuracy: 0.7460\n",
            "Epoch 22/50\n",
            "250/250 [==============================] - 29s 114ms/step - loss: 1.2804 - accuracy: 0.8754 - val_loss: 1.6205 - val_accuracy: 0.6915\n",
            "Epoch 23/50\n",
            "250/250 [==============================] - 27s 106ms/step - loss: 1.2572 - accuracy: 0.8850 - val_loss: 1.4309 - val_accuracy: 0.8045\n",
            "Epoch 24/50\n",
            "250/250 [==============================] - 29s 114ms/step - loss: 1.3232 - accuracy: 0.8942 - val_loss: 1.5985 - val_accuracy: 0.8080\n",
            "Epoch 25/50\n",
            "250/250 [==============================] - 27s 107ms/step - loss: 1.3157 - accuracy: 0.9007 - val_loss: 1.5222 - val_accuracy: 0.8140\n",
            "Epoch 26/50\n",
            "250/250 [==============================] - 28s 113ms/step - loss: 1.2874 - accuracy: 0.9097 - val_loss: 1.5483 - val_accuracy: 0.8035\n",
            "Epoch 27/50\n",
            "250/250 [==============================] - 26s 105ms/step - loss: 1.2084 - accuracy: 0.9176 - val_loss: 1.4366 - val_accuracy: 0.8005\n",
            "Epoch 28/50\n",
            "250/250 [==============================] - 29s 114ms/step - loss: 1.2422 - accuracy: 0.9209 - val_loss: 1.5554 - val_accuracy: 0.7875\n",
            "Epoch 29/50\n",
            "250/250 [==============================] - 29s 114ms/step - loss: 1.1975 - accuracy: 0.9258 - val_loss: 1.8610 - val_accuracy: 0.7835\n",
            "Epoch 30/50\n",
            "250/250 [==============================] - 29s 114ms/step - loss: 1.1922 - accuracy: 0.9289 - val_loss: 1.4506 - val_accuracy: 0.8155\n",
            "Epoch 31/50\n",
            "250/250 [==============================] - 27s 106ms/step - loss: 1.1887 - accuracy: 0.9327 - val_loss: 1.5032 - val_accuracy: 0.8080\n",
            "Epoch 32/50\n",
            "250/250 [==============================] - 29s 113ms/step - loss: 1.3208 - accuracy: 0.9317 - val_loss: 1.7027 - val_accuracy: 0.7915\n",
            "Epoch 33/50\n",
            "250/250 [==============================] - 27s 108ms/step - loss: 1.2519 - accuracy: 0.9354 - val_loss: 1.3741 - val_accuracy: 0.8405\n",
            "Epoch 34/50\n",
            "250/250 [==============================] - 27s 105ms/step - loss: 1.0976 - accuracy: 0.9471 - val_loss: 1.6848 - val_accuracy: 0.8005\n",
            "Epoch 35/50\n",
            "250/250 [==============================] - 27s 106ms/step - loss: 1.2046 - accuracy: 0.9392 - val_loss: 1.4848 - val_accuracy: 0.8395\n",
            "Epoch 36/50\n",
            "250/250 [==============================] - 29s 113ms/step - loss: 1.1854 - accuracy: 0.9467 - val_loss: 1.7144 - val_accuracy: 0.7985\n",
            "Epoch 37/50\n",
            "250/250 [==============================] - 29s 114ms/step - loss: 1.1904 - accuracy: 0.9392 - val_loss: 1.7326 - val_accuracy: 0.7935\n",
            "Epoch 38/50\n",
            "250/250 [==============================] - 26s 105ms/step - loss: 1.0943 - accuracy: 0.9469 - val_loss: 1.2752 - val_accuracy: 0.8370\n",
            "Epoch 39/50\n",
            "250/250 [==============================] - 29s 113ms/step - loss: 0.9690 - accuracy: 0.9490 - val_loss: 1.6254 - val_accuracy: 0.7840\n",
            "Epoch 40/50\n",
            "250/250 [==============================] - 29s 114ms/step - loss: 1.1069 - accuracy: 0.9476 - val_loss: 1.3412 - val_accuracy: 0.8475\n",
            "Epoch 41/50\n",
            "250/250 [==============================] - 27s 105ms/step - loss: 0.9953 - accuracy: 0.9564 - val_loss: 1.5838 - val_accuracy: 0.7795\n",
            "Epoch 42/50\n",
            "250/250 [==============================] - 27s 104ms/step - loss: 1.1233 - accuracy: 0.9504 - val_loss: 1.4395 - val_accuracy: 0.8280\n",
            "Epoch 43/50\n",
            "250/250 [==============================] - 27s 105ms/step - loss: 0.9928 - accuracy: 0.9561 - val_loss: 1.5078 - val_accuracy: 0.8210\n",
            "Epoch 44/50\n",
            "250/250 [==============================] - 28s 109ms/step - loss: 1.0676 - accuracy: 0.9542 - val_loss: 1.8567 - val_accuracy: 0.7705\n",
            "Epoch 45/50\n",
            "250/250 [==============================] - 27s 105ms/step - loss: 1.0036 - accuracy: 0.9572 - val_loss: 1.2047 - val_accuracy: 0.8585\n",
            "Epoch 46/50\n",
            "250/250 [==============================] - 29s 113ms/step - loss: 0.9594 - accuracy: 0.9563 - val_loss: 1.3062 - val_accuracy: 0.8635\n",
            "Epoch 47/50\n",
            "250/250 [==============================] - 29s 114ms/step - loss: 0.9582 - accuracy: 0.9557 - val_loss: 1.5142 - val_accuracy: 0.7810\n",
            "Epoch 48/50\n",
            "250/250 [==============================] - 29s 113ms/step - loss: 0.9516 - accuracy: 0.9575 - val_loss: 1.2068 - val_accuracy: 0.8520\n",
            "Epoch 49/50\n",
            "250/250 [==============================] - 27s 106ms/step - loss: 0.8841 - accuracy: 0.9640 - val_loss: 1.3000 - val_accuracy: 0.8495\n",
            "Epoch 50/50\n",
            "250/250 [==============================] - 27s 107ms/step - loss: 0.9672 - accuracy: 0.9588 - val_loss: 1.3012 - val_accuracy: 0.8645\n"
          ]
        }
      ],
      "source": [
        "model2.compile(optimizer=\"adam\", loss=\"binary_crossentropy\", metrics=['accuracy'])\n",
        "history3 = model2.fit(train_dataset, epochs=50, validation_data=validation_dataset)"
      ]
    },
    {
      "cell_type": "code",
      "execution_count": 30,
      "metadata": {
        "id": "f2QWMTf3GAnL"
      },
      "outputs": [],
      "source": [
        "filename = 'cats_vs_dogs_super_improved_model.pkl'\n",
        "with open(filename, 'wb') as file:\n",
        "    pickle.dump(model2, file)"
      ]
    },
    {
      "cell_type": "code",
      "execution_count": 31,
      "metadata": {
        "colab": {
          "base_uri": "https://localhost:8080/",
          "height": 430
        },
        "id": "NQ5J6MLIGEnI",
        "outputId": "53ea7092-8879-4bd2-bfd4-639f15b3f763"
      },
      "outputs": [
        {
          "data": {
            "image/png": "[encoded data removed]",
            "text/plain": [
              "<Figure size 640x480 with 1 Axes>"
            ]
          },
          "metadata": {},
          "output_type": "display_data"
        }
      ],
      "source": [
        "plt.plot(history3.history['accuracy'],color='red',label='train')\n",
        "plt.plot(history3.history['val_accuracy'],color = 'blue',label='validation')\n",
        "plt.legend()\n",
        "plt.show()"
      ]
    },
    {
      "cell_type": "code",
      "execution_count": 27,
      "metadata": {
        "colab": {
          "base_uri": "https://localhost:8080/",
          "height": 931
        },
        "id": "dbVw4KyLXdVM",
        "outputId": "0b9fd131-9bb7-4c71-c4cd-5b2951beb4d3"
      },
      "outputs": [
        {
          "name": "stdout",
          "output_type": "stream",
          "text": [
            "Epoch 1/50\n",
            "250/250 [==============================] - 143s 557ms/step - loss: 8.8628 - accuracy: 0.5397 - val_loss: 5.1992 - val_accuracy: 0.5030\n",
            "Epoch 2/50\n",
            "250/250 [==============================] - 139s 555ms/step - loss: 2.7264 - accuracy: 0.5239 - val_loss: 8.7542 - val_accuracy: 0.5220\n",
            "Epoch 3/50\n",
            "250/250 [==============================] - 138s 553ms/step - loss: 1.7491 - accuracy: 0.5330 - val_loss: 3.6237 - val_accuracy: 0.5430\n",
            "Epoch 4/50\n",
            "250/250 [==============================] - 138s 551ms/step - loss: 1.1857 - accuracy: 0.5529 - val_loss: 1.1348 - val_accuracy: 0.5005\n",
            "Epoch 5/50\n",
            "250/250 [==============================] - 137s 548ms/step - loss: 1.0640 - accuracy: 0.5780 - val_loss: 7.8863 - val_accuracy: 0.5660\n",
            "Epoch 6/50\n",
            "250/250 [==============================] - 138s 552ms/step - loss: 0.9533 - accuracy: 0.5763 - val_loss: 5.3129 - val_accuracy: 0.5315\n",
            "Epoch 7/50\n",
            "250/250 [==============================] - 139s 556ms/step - loss: 0.9214 - accuracy: 0.5936 - val_loss: 50.2336 - val_accuracy: 0.5720\n",
            "Epoch 8/50\n",
            "250/250 [==============================] - 141s 563ms/step - loss: 0.8531 - accuracy: 0.6195 - val_loss: 163.1539 - val_accuracy: 0.5010\n",
            "Epoch 9/50\n",
            "250/250 [==============================] - 137s 549ms/step - loss: 0.8290 - accuracy: 0.6526 - val_loss: 266.0381 - val_accuracy: 0.5000\n",
            "Epoch 10/50\n",
            "250/250 [==============================] - 136s 545ms/step - loss: 0.8303 - accuracy: 0.6810 - val_loss: 155.6390 - val_accuracy: 0.5000\n",
            "Epoch 11/50\n",
            "250/250 [==============================] - 133s 530ms/step - loss: 0.8201 - accuracy: 0.6949 - val_loss: 33.9812 - val_accuracy: 0.6325\n",
            "Epoch 12/50\n",
            "250/250 [==============================] - 133s 531ms/step - loss: 0.7921 - accuracy: 0.7132 - val_loss: 120.2587 - val_accuracy: 0.5030\n",
            "Epoch 13/50\n",
            "250/250 [==============================] - 132s 529ms/step - loss: 0.7747 - accuracy: 0.7358 - val_loss: 110.8139 - val_accuracy: 0.5065\n",
            "Epoch 14/50\n",
            "250/250 [==============================] - 131s 524ms/step - loss: 0.7531 - accuracy: 0.7436 - val_loss: 60.8206 - val_accuracy: 0.5685\n",
            "Epoch 15/50\n",
            "250/250 [==============================] - 133s 532ms/step - loss: 0.7304 - accuracy: 0.7555 - val_loss: 13.1422 - val_accuracy: 0.6735\n",
            "Epoch 16/50\n",
            " 44/250 [====>.........................] - ETA: 1:45 - loss: 0.7390 - accuracy: 0.7678"
          ]
        },
        {
          "ename": "KeyboardInterrupt",
          "evalue": "",
          "output_type": "error",
          "traceback": [
            "\u001b[0;31m---------------------------------------------------------------------------\u001b[0m",
            "\u001b[0;31mKeyboardInterrupt\u001b[0m                         Traceback (most recent call last)",
            "\u001b[0;32m<ipython-input-27-c639c210c9f9>\u001b[0m in \u001b[0;36m<cell line: 2>\u001b[0;34m()\u001b[0m\n\u001b[1;32m      1\u001b[0m \u001b[0mmodel2\u001b[0m\u001b[0;34m.\u001b[0m\u001b[0mcompile\u001b[0m\u001b[0;34m(\u001b[0m\u001b[0moptimizer\u001b[0m\u001b[0;34m=\u001b[0m\u001b[0;34m\"adam\"\u001b[0m\u001b[0;34m,\u001b[0m \u001b[0mloss\u001b[0m\u001b[0;34m=\u001b[0m\u001b[0;34m\"binary_crossentropy\"\u001b[0m\u001b[0;34m,\u001b[0m \u001b[0mmetrics\u001b[0m\u001b[0;34m=\u001b[0m\u001b[0;34m[\u001b[0m\u001b[0;34m'accuracy'\u001b[0m\u001b[0;34m]\u001b[0m\u001b[0;34m)\u001b[0m\u001b[0;34m\u001b[0m\u001b[0;34m\u001b[0m\u001b[0m\n\u001b[0;32m----> 2\u001b[0;31m \u001b[0mhistory4\u001b[0m \u001b[0;34m=\u001b[0m \u001b[0mmodel2\u001b[0m\u001b[0;34m.\u001b[0m\u001b[0mfit\u001b[0m\u001b[0;34m(\u001b[0m\u001b[0mtrain_generator\u001b[0m\u001b[0;34m,\u001b[0m \u001b[0mepochs\u001b[0m\u001b[0;34m=\u001b[0m\u001b[0;36m50\u001b[0m\u001b[0;34m,\u001b[0m \u001b[0mvalidation_data\u001b[0m\u001b[0;34m=\u001b[0m\u001b[0mvalidation_generator\u001b[0m\u001b[0;34m)\u001b[0m\u001b[0;34m\u001b[0m\u001b[0;34m\u001b[0m\u001b[0m\n\u001b[0m",
            "\u001b[0;32m/usr/local/lib/python3.10/dist-packages/keras/src/utils/traceback_utils.py\u001b[0m in \u001b[0;36merror_handler\u001b[0;34m(*args, **kwargs)\u001b[0m\n\u001b[1;32m     63\u001b[0m         \u001b[0mfiltered_tb\u001b[0m \u001b[0;34m=\u001b[0m \u001b[0;32mNone\u001b[0m\u001b[0;34m\u001b[0m\u001b[0;34m\u001b[0m\u001b[0m\n\u001b[1;32m     64\u001b[0m         \u001b[0;32mtry\u001b[0m\u001b[0;34m:\u001b[0m\u001b[0;34m\u001b[0m\u001b[0;34m\u001b[0m\u001b[0m\n\u001b[0;32m---> 65\u001b[0;31m             \u001b[0;32mreturn\u001b[0m \u001b[0mfn\u001b[0m\u001b[0;34m(\u001b[0m\u001b[0;34m*\u001b[0m\u001b[0margs\u001b[0m\u001b[0;34m,\u001b[0m \u001b[0;34m**\u001b[0m\u001b[0mkwargs\u001b[0m\u001b[0;34m)\u001b[0m\u001b[0;34m\u001b[0m\u001b[0;34m\u001b[0m\u001b[0m\n\u001b[0m\u001b[1;32m     66\u001b[0m         \u001b[0;32mexcept\u001b[0m \u001b[0mException\u001b[0m \u001b[0;32mas\u001b[0m \u001b[0me\u001b[0m\u001b[0;34m:\u001b[0m\u001b[0;34m\u001b[0m\u001b[0;34m\u001b[0m\u001b[0m\n\u001b[1;32m     67\u001b[0m             \u001b[0mfiltered_tb\u001b[0m \u001b[0;34m=\u001b[0m \u001b[0m_process_traceback_frames\u001b[0m\u001b[0;34m(\u001b[0m\u001b[0me\u001b[0m\u001b[0;34m.\u001b[0m\u001b[0m__traceback__\u001b[0m\u001b[0;34m)\u001b[0m\u001b[0;34m\u001b[0m\u001b[0;34m\u001b[0m\u001b[0m\n",
            "\u001b[0;32m/usr/local/lib/python3.10/dist-packages/keras/src/engine/training.py\u001b[0m in \u001b[0;36mfit\u001b[0;34m(self, x, y, batch_size, epochs, verbose, callbacks, validation_split, validation_data, shuffle, class_weight, sample_weight, initial_epoch, steps_per_epoch, validation_steps, validation_batch_size, validation_freq, max_queue_size, workers, use_multiprocessing)\u001b[0m\n\u001b[1;32m   1805\u001b[0m                         ):\n\u001b[1;32m   1806\u001b[0m                             \u001b[0mcallbacks\u001b[0m\u001b[0;34m.\u001b[0m\u001b[0mon_train_batch_begin\u001b[0m\u001b[0;34m(\u001b[0m\u001b[0mstep\u001b[0m\u001b[0;34m)\u001b[0m\u001b[0;34m\u001b[0m\u001b[0;34m\u001b[0m\u001b[0m\n\u001b[0;32m-> 1807\u001b[0;31m                             \u001b[0mtmp_logs\u001b[0m \u001b[0;34m=\u001b[0m \u001b[0mself\u001b[0m\u001b[0;34m.\u001b[0m\u001b[0mtrain_function\u001b[0m\u001b[0;34m(\u001b[0m\u001b[0miterator\u001b[0m\u001b[0;34m)\u001b[0m\u001b[0;34m\u001b[0m\u001b[0;34m\u001b[0m\u001b[0m\n\u001b[0m\u001b[1;32m   1808\u001b[0m                             \u001b[0;32mif\u001b[0m \u001b[0mdata_handler\u001b[0m\u001b[0;34m.\u001b[0m\u001b[0mshould_sync\u001b[0m\u001b[0;34m:\u001b[0m\u001b[0;34m\u001b[0m\u001b[0;34m\u001b[0m\u001b[0m\n\u001b[1;32m   1809\u001b[0m                                 \u001b[0mcontext\u001b[0m\u001b[0;34m.\u001b[0m\u001b[0masync_wait\u001b[0m\u001b[0;34m(\u001b[0m\u001b[0;34m)\u001b[0m\u001b[0;34m\u001b[0m\u001b[0;34m\u001b[0m\u001b[0m\n",
            "\u001b[0;32m/usr/local/lib/python3.10/dist-packages/tensorflow/python/util/traceback_utils.py\u001b[0m in \u001b[0;36merror_handler\u001b[0;34m(*args, **kwargs)\u001b[0m\n\u001b[1;32m    148\u001b[0m     \u001b[0mfiltered_tb\u001b[0m \u001b[0;34m=\u001b[0m \u001b[0;32mNone\u001b[0m\u001b[0;34m\u001b[0m\u001b[0;34m\u001b[0m\u001b[0m\n\u001b[1;32m    149\u001b[0m     \u001b[0;32mtry\u001b[0m\u001b[0;34m:\u001b[0m\u001b[0;34m\u001b[0m\u001b[0;34m\u001b[0m\u001b[0m\n\u001b[0;32m--> 150\u001b[0;31m       \u001b[0;32mreturn\u001b[0m \u001b[0mfn\u001b[0m\u001b[0;34m(\u001b[0m\u001b[0;34m*\u001b[0m\u001b[0margs\u001b[0m\u001b[0;34m,\u001b[0m \u001b[0;34m**\u001b[0m\u001b[0mkwargs\u001b[0m\u001b[0;34m)\u001b[0m\u001b[0;34m\u001b[0m\u001b[0;34m\u001b[0m\u001b[0m\n\u001b[0m\u001b[1;32m    151\u001b[0m     \u001b[0;32mexcept\u001b[0m \u001b[0mException\u001b[0m \u001b[0;32mas\u001b[0m \u001b[0me\u001b[0m\u001b[0;34m:\u001b[0m\u001b[0;34m\u001b[0m\u001b[0;34m\u001b[0m\u001b[0m\n\u001b[1;32m    152\u001b[0m       \u001b[0mfiltered_tb\u001b[0m \u001b[0;34m=\u001b[0m \u001b[0m_process_traceback_frames\u001b[0m\u001b[0;34m(\u001b[0m\u001b[0me\u001b[0m\u001b[0;34m.\u001b[0m\u001b[0m__traceback__\u001b[0m\u001b[0;34m)\u001b[0m\u001b[0;34m\u001b[0m\u001b[0;34m\u001b[0m\u001b[0m\n",
            "\u001b[0;32m/usr/local/lib/python3.10/dist-packages/tensorflow/python/eager/polymorphic_function/polymorphic_function.py\u001b[0m in \u001b[0;36m__call__\u001b[0;34m(self, *args, **kwds)\u001b[0m\n\u001b[1;32m    830\u001b[0m \u001b[0;34m\u001b[0m\u001b[0m\n\u001b[1;32m    831\u001b[0m       \u001b[0;32mwith\u001b[0m \u001b[0mOptionalXlaContext\u001b[0m\u001b[0;34m(\u001b[0m\u001b[0mself\u001b[0m\u001b[0;34m.\u001b[0m\u001b[0m_jit_compile\u001b[0m\u001b[0;34m)\u001b[0m\u001b[0;34m:\u001b[0m\u001b[0;34m\u001b[0m\u001b[0;34m\u001b[0m\u001b[0m\n\u001b[0;32m--> 832\u001b[0;31m         \u001b[0mresult\u001b[0m \u001b[0;34m=\u001b[0m \u001b[0mself\u001b[0m\u001b[0;34m.\u001b[0m\u001b[0m_call\u001b[0m\u001b[0;34m(\u001b[0m\u001b[0;34m*\u001b[0m\u001b[0margs\u001b[0m\u001b[0;34m,\u001b[0m \u001b[0;34m**\u001b[0m\u001b[0mkwds\u001b[0m\u001b[0;34m)\u001b[0m\u001b[0;34m\u001b[0m\u001b[0;34m\u001b[0m\u001b[0m\n\u001b[0m\u001b[1;32m    833\u001b[0m \u001b[0;34m\u001b[0m\u001b[0m\n\u001b[1;32m    834\u001b[0m       \u001b[0mnew_tracing_count\u001b[0m \u001b[0;34m=\u001b[0m \u001b[0mself\u001b[0m\u001b[0;34m.\u001b[0m\u001b[0mexperimental_get_tracing_count\u001b[0m\u001b[0;34m(\u001b[0m\u001b[0;34m)\u001b[0m\u001b[0;34m\u001b[0m\u001b[0;34m\u001b[0m\u001b[0m\n",
            "\u001b[0;32m/usr/local/lib/python3.10/dist-packages/tensorflow/python/eager/polymorphic_function/polymorphic_function.py\u001b[0m in \u001b[0;36m_call\u001b[0;34m(self, *args, **kwds)\u001b[0m\n\u001b[1;32m    866\u001b[0m       \u001b[0;31m# In this case we have created variables on the first call, so we run the\u001b[0m\u001b[0;34m\u001b[0m\u001b[0;34m\u001b[0m\u001b[0m\n\u001b[1;32m    867\u001b[0m       \u001b[0;31m# defunned version which is guaranteed to never create variables.\u001b[0m\u001b[0;34m\u001b[0m\u001b[0;34m\u001b[0m\u001b[0m\n\u001b[0;32m--> 868\u001b[0;31m       return tracing_compilation.call_function(\n\u001b[0m\u001b[1;32m    869\u001b[0m           \u001b[0margs\u001b[0m\u001b[0;34m,\u001b[0m \u001b[0mkwds\u001b[0m\u001b[0;34m,\u001b[0m \u001b[0mself\u001b[0m\u001b[0;34m.\u001b[0m\u001b[0m_no_variable_creation_config\u001b[0m\u001b[0;34m\u001b[0m\u001b[0;34m\u001b[0m\u001b[0m\n\u001b[1;32m    870\u001b[0m       )\n",
            "\u001b[0;32m/usr/local/lib/python3.10/dist-packages/tensorflow/python/eager/polymorphic_function/tracing_compilation.py\u001b[0m in \u001b[0;36mcall_function\u001b[0;34m(args, kwargs, tracing_options)\u001b[0m\n\u001b[1;32m    137\u001b[0m   \u001b[0mbound_args\u001b[0m \u001b[0;34m=\u001b[0m \u001b[0mfunction\u001b[0m\u001b[0;34m.\u001b[0m\u001b[0mfunction_type\u001b[0m\u001b[0;34m.\u001b[0m\u001b[0mbind\u001b[0m\u001b[0;34m(\u001b[0m\u001b[0;34m*\u001b[0m\u001b[0margs\u001b[0m\u001b[0;34m,\u001b[0m \u001b[0;34m**\u001b[0m\u001b[0mkwargs\u001b[0m\u001b[0;34m)\u001b[0m\u001b[0;34m\u001b[0m\u001b[0;34m\u001b[0m\u001b[0m\n\u001b[1;32m    138\u001b[0m   \u001b[0mflat_inputs\u001b[0m \u001b[0;34m=\u001b[0m \u001b[0mfunction\u001b[0m\u001b[0;34m.\u001b[0m\u001b[0mfunction_type\u001b[0m\u001b[0;34m.\u001b[0m\u001b[0munpack_inputs\u001b[0m\u001b[0;34m(\u001b[0m\u001b[0mbound_args\u001b[0m\u001b[0;34m)\u001b[0m\u001b[0;34m\u001b[0m\u001b[0;34m\u001b[0m\u001b[0m\n\u001b[0;32m--> 139\u001b[0;31m   return function._call_flat(  # pylint: disable=protected-access\n\u001b[0m\u001b[1;32m    140\u001b[0m       \u001b[0mflat_inputs\u001b[0m\u001b[0;34m,\u001b[0m \u001b[0mcaptured_inputs\u001b[0m\u001b[0;34m=\u001b[0m\u001b[0mfunction\u001b[0m\u001b[0;34m.\u001b[0m\u001b[0mcaptured_inputs\u001b[0m\u001b[0;34m\u001b[0m\u001b[0;34m\u001b[0m\u001b[0m\n\u001b[1;32m    141\u001b[0m   )\n",
            "\u001b[0;32m/usr/local/lib/python3.10/dist-packages/tensorflow/python/eager/polymorphic_function/concrete_function.py\u001b[0m in \u001b[0;36m_call_flat\u001b[0;34m(self, tensor_inputs, captured_inputs)\u001b[0m\n\u001b[1;32m   1321\u001b[0m         and executing_eagerly):\n\u001b[1;32m   1322\u001b[0m       \u001b[0;31m# No tape is watching; skip to running the function.\u001b[0m\u001b[0;34m\u001b[0m\u001b[0;34m\u001b[0m\u001b[0m\n\u001b[0;32m-> 1323\u001b[0;31m       \u001b[0;32mreturn\u001b[0m \u001b[0mself\u001b[0m\u001b[0;34m.\u001b[0m\u001b[0m_inference_function\u001b[0m\u001b[0;34m.\u001b[0m\u001b[0mcall_preflattened\u001b[0m\u001b[0;34m(\u001b[0m\u001b[0margs\u001b[0m\u001b[0;34m)\u001b[0m\u001b[0;34m\u001b[0m\u001b[0;34m\u001b[0m\u001b[0m\n\u001b[0m\u001b[1;32m   1324\u001b[0m     forward_backward = self._select_forward_and_backward_functions(\n\u001b[1;32m   1325\u001b[0m         \u001b[0margs\u001b[0m\u001b[0;34m,\u001b[0m\u001b[0;34m\u001b[0m\u001b[0;34m\u001b[0m\u001b[0m\n",
            "\u001b[0;32m/usr/local/lib/python3.10/dist-packages/tensorflow/python/eager/polymorphic_function/atomic_function.py\u001b[0m in \u001b[0;36mcall_preflattened\u001b[0;34m(self, args)\u001b[0m\n\u001b[1;32m    214\u001b[0m   \u001b[0;32mdef\u001b[0m \u001b[0mcall_preflattened\u001b[0m\u001b[0;34m(\u001b[0m\u001b[0mself\u001b[0m\u001b[0;34m,\u001b[0m \u001b[0margs\u001b[0m\u001b[0;34m:\u001b[0m \u001b[0mSequence\u001b[0m\u001b[0;34m[\u001b[0m\u001b[0mcore\u001b[0m\u001b[0;34m.\u001b[0m\u001b[0mTensor\u001b[0m\u001b[0;34m]\u001b[0m\u001b[0;34m)\u001b[0m \u001b[0;34m->\u001b[0m \u001b[0mAny\u001b[0m\u001b[0;34m:\u001b[0m\u001b[0;34m\u001b[0m\u001b[0;34m\u001b[0m\u001b[0m\n\u001b[1;32m    215\u001b[0m     \u001b[0;34m\"\"\"Calls with flattened tensor inputs and returns the structured output.\"\"\"\u001b[0m\u001b[0;34m\u001b[0m\u001b[0;34m\u001b[0m\u001b[0m\n\u001b[0;32m--> 216\u001b[0;31m     \u001b[0mflat_outputs\u001b[0m \u001b[0;34m=\u001b[0m \u001b[0mself\u001b[0m\u001b[0;34m.\u001b[0m\u001b[0mcall_flat\u001b[0m\u001b[0;34m(\u001b[0m\u001b[0;34m*\u001b[0m\u001b[0margs\u001b[0m\u001b[0;34m)\u001b[0m\u001b[0;34m\u001b[0m\u001b[0;34m\u001b[0m\u001b[0m\n\u001b[0m\u001b[1;32m    217\u001b[0m     \u001b[0;32mreturn\u001b[0m \u001b[0mself\u001b[0m\u001b[0;34m.\u001b[0m\u001b[0mfunction_type\u001b[0m\u001b[0;34m.\u001b[0m\u001b[0mpack_output\u001b[0m\u001b[0;34m(\u001b[0m\u001b[0mflat_outputs\u001b[0m\u001b[0;34m)\u001b[0m\u001b[0;34m\u001b[0m\u001b[0;34m\u001b[0m\u001b[0m\n\u001b[1;32m    218\u001b[0m \u001b[0;34m\u001b[0m\u001b[0m\n",
            "\u001b[0;32m/usr/local/lib/python3.10/dist-packages/tensorflow/python/eager/polymorphic_function/atomic_function.py\u001b[0m in \u001b[0;36mcall_flat\u001b[0;34m(self, *args)\u001b[0m\n\u001b[1;32m    249\u001b[0m         \u001b[0;32mwith\u001b[0m \u001b[0mrecord\u001b[0m\u001b[0;34m.\u001b[0m\u001b[0mstop_recording\u001b[0m\u001b[0;34m(\u001b[0m\u001b[0;34m)\u001b[0m\u001b[0;34m:\u001b[0m\u001b[0;34m\u001b[0m\u001b[0;34m\u001b[0m\u001b[0m\n\u001b[1;32m    250\u001b[0m           \u001b[0;32mif\u001b[0m \u001b[0mself\u001b[0m\u001b[0;34m.\u001b[0m\u001b[0m_bound_context\u001b[0m\u001b[0;34m.\u001b[0m\u001b[0mexecuting_eagerly\u001b[0m\u001b[0;34m(\u001b[0m\u001b[0;34m)\u001b[0m\u001b[0;34m:\u001b[0m\u001b[0;34m\u001b[0m\u001b[0;34m\u001b[0m\u001b[0m\n\u001b[0;32m--> 251\u001b[0;31m             outputs = self._bound_context.call_function(\n\u001b[0m\u001b[1;32m    252\u001b[0m                 \u001b[0mself\u001b[0m\u001b[0;34m.\u001b[0m\u001b[0mname\u001b[0m\u001b[0;34m,\u001b[0m\u001b[0;34m\u001b[0m\u001b[0;34m\u001b[0m\u001b[0m\n\u001b[1;32m    253\u001b[0m                 \u001b[0mlist\u001b[0m\u001b[0;34m(\u001b[0m\u001b[0margs\u001b[0m\u001b[0;34m)\u001b[0m\u001b[0;34m,\u001b[0m\u001b[0;34m\u001b[0m\u001b[0;34m\u001b[0m\u001b[0m\n",
            "\u001b[0;32m/usr/local/lib/python3.10/dist-packages/tensorflow/python/eager/context.py\u001b[0m in \u001b[0;36mcall_function\u001b[0;34m(self, name, tensor_inputs, num_outputs)\u001b[0m\n\u001b[1;32m   1484\u001b[0m     \u001b[0mcancellation_context\u001b[0m \u001b[0;34m=\u001b[0m \u001b[0mcancellation\u001b[0m\u001b[0;34m.\u001b[0m\u001b[0mcontext\u001b[0m\u001b[0;34m(\u001b[0m\u001b[0;34m)\u001b[0m\u001b[0;34m\u001b[0m\u001b[0;34m\u001b[0m\u001b[0m\n\u001b[1;32m   1485\u001b[0m     \u001b[0;32mif\u001b[0m \u001b[0mcancellation_context\u001b[0m \u001b[0;32mis\u001b[0m \u001b[0;32mNone\u001b[0m\u001b[0;34m:\u001b[0m\u001b[0;34m\u001b[0m\u001b[0;34m\u001b[0m\u001b[0m\n\u001b[0;32m-> 1486\u001b[0;31m       outputs = execute.execute(\n\u001b[0m\u001b[1;32m   1487\u001b[0m           \u001b[0mname\u001b[0m\u001b[0;34m.\u001b[0m\u001b[0mdecode\u001b[0m\u001b[0;34m(\u001b[0m\u001b[0;34m\"utf-8\"\u001b[0m\u001b[0;34m)\u001b[0m\u001b[0;34m,\u001b[0m\u001b[0;34m\u001b[0m\u001b[0;34m\u001b[0m\u001b[0m\n\u001b[1;32m   1488\u001b[0m           \u001b[0mnum_outputs\u001b[0m\u001b[0;34m=\u001b[0m\u001b[0mnum_outputs\u001b[0m\u001b[0;34m,\u001b[0m\u001b[0;34m\u001b[0m\u001b[0;34m\u001b[0m\u001b[0m\n",
            "\u001b[0;32m/usr/local/lib/python3.10/dist-packages/tensorflow/python/eager/execute.py\u001b[0m in \u001b[0;36mquick_execute\u001b[0;34m(op_name, num_outputs, inputs, attrs, ctx, name)\u001b[0m\n\u001b[1;32m     51\u001b[0m   \u001b[0;32mtry\u001b[0m\u001b[0;34m:\u001b[0m\u001b[0;34m\u001b[0m\u001b[0;34m\u001b[0m\u001b[0m\n\u001b[1;32m     52\u001b[0m     \u001b[0mctx\u001b[0m\u001b[0;34m.\u001b[0m\u001b[0mensure_initialized\u001b[0m\u001b[0;34m(\u001b[0m\u001b[0;34m)\u001b[0m\u001b[0;34m\u001b[0m\u001b[0;34m\u001b[0m\u001b[0m\n\u001b[0;32m---> 53\u001b[0;31m     tensors = pywrap_tfe.TFE_Py_Execute(ctx._handle, device_name, op_name,\n\u001b[0m\u001b[1;32m     54\u001b[0m                                         inputs, attrs, num_outputs)\n\u001b[1;32m     55\u001b[0m   \u001b[0;32mexcept\u001b[0m \u001b[0mcore\u001b[0m\u001b[0;34m.\u001b[0m\u001b[0m_NotOkStatusException\u001b[0m \u001b[0;32mas\u001b[0m \u001b[0me\u001b[0m\u001b[0;34m:\u001b[0m\u001b[0;34m\u001b[0m\u001b[0;34m\u001b[0m\u001b[0m\n",
            "\u001b[0;31mKeyboardInterrupt\u001b[0m: "
          ]
        }
      ],
      "source": [
        "model2.compile(optimizer=\"adam\", loss=\"binary_crossentropy\", metrics=['accuracy'])\n",
        "history4 = model2.fit(train_generator, epochs=50, validation_data=validation_generator)"
      ]
    }
  ],
  "metadata": {
    "accelerator": "GPU",
    "colab": {
      "gpuType": "T4",
      "provenance": []
    },
    "kernelspec": {
      "display_name": "Python 3",
      "name": "python3"
    },
    "language_info": {
      "name": "python",
      "version": "3.10.13"
    }
  },
  "nbformat": 4,
  "nbformat_minor": 0
}
