{
 "cells": [
  {
   "cell_type": "markdown",
   "metadata": {},
   "source": [
    "# Datasets Info\n",
    "\n",
    "This data sets consists of 3 different types of irises’ (Setosa, Versicolour, and Virginica) petal and sepal length, stored in a 150x4 numpy.ndarray\n",
    "\n",
    "Features:\n",
    "\n",
    "1) 'Sepal Length'\n",
    "\n",
    "2) 'Sepal Width'\n",
    "\n",
    "3) 'Petal Length'\n",
    "\n",
    "4) 'Petal Width'\n",
    "\n",
    "Output:\n",
    "\n",
    "- setosa : 0\n",
    "\n",
    "- versicolor : 1\n",
    "\n",
    "- virginica : 2"
   ]
  },
  {
   "cell_type": "code",
   "execution_count": 1,
   "metadata": {},
   "outputs": [
    {
     "name": "stderr",
     "output_type": "stream",
     "text": [
      "2024-01-01 21:32:36.909657: I external/local_tsl/tsl/cuda/cudart_stub.cc:31] Could not find cuda drivers on your machine, GPU will not be used.\n",
      "2024-01-01 21:32:37.411791: E external/local_xla/xla/stream_executor/cuda/cuda_dnn.cc:9261] Unable to register cuDNN factory: Attempting to register factory for plugin cuDNN when one has already been registered\n",
      "2024-01-01 21:32:37.411886: E external/local_xla/xla/stream_executor/cuda/cuda_fft.cc:607] Unable to register cuFFT factory: Attempting to register factory for plugin cuFFT when one has already been registered\n",
      "2024-01-01 21:32:37.475051: E external/local_xla/xla/stream_executor/cuda/cuda_blas.cc:1515] Unable to register cuBLAS factory: Attempting to register factory for plugin cuBLAS when one has already been registered\n",
      "2024-01-01 21:32:37.617038: I external/local_tsl/tsl/cuda/cudart_stub.cc:31] Could not find cuda drivers on your machine, GPU will not be used.\n",
      "2024-01-01 21:32:37.619594: I tensorflow/core/platform/cpu_feature_guard.cc:182] This TensorFlow binary is optimized to use available CPU instructions in performance-critical operations.\n",
      "To enable the following instructions: AVX2 FMA, in other operations, rebuild TensorFlow with the appropriate compiler flags.\n",
      "2024-01-01 21:32:40.474559: W tensorflow/compiler/tf2tensorrt/utils/py_utils.cc:38] TF-TRT Warning: Could not find TensorRT\n"
     ]
    }
   ],
   "source": [
    "import tensorflow as tf\n",
    "from tensorflow.keras.models import Sequential\n",
    "from tensorflow.keras.layers import Dense\n",
    "from sklearn.datasets import load_iris\n",
    "from sklearn.model_selection import train_test_split"
   ]
  },
  {
   "cell_type": "markdown",
   "metadata": {},
   "source": [
    "Loading Iris Datasets"
   ]
  },
  {
   "cell_type": "code",
   "execution_count": 2,
   "metadata": {},
   "outputs": [],
   "source": [
    "iris = load_iris()\n",
    "X = iris.data\n",
    "y = iris.target"
   ]
  },
  {
   "cell_type": "markdown",
   "metadata": {},
   "source": [
    "Splitting the datasets into training and test sets"
   ]
  },
  {
   "cell_type": "code",
   "execution_count": 3,
   "metadata": {},
   "outputs": [],
   "source": [
    "X_train, X_test, y_train, y_test = train_test_split(X, y, test_size=0.2, random_state=42)\n"
   ]
  },
  {
   "cell_type": "markdown",
   "metadata": {},
   "source": [
    "Creating a sequential model with 3 dense layers"
   ]
  },
  {
   "cell_type": "code",
   "execution_count": 4,
   "metadata": {},
   "outputs": [],
   "source": [
    "model = Sequential([\n",
    "   Dense(8, activation='relu', input_shape=(4,)),  # Input layer with 4 features\n",
    "   Dense(16, activation='relu'),  # Hidden layer\n",
    "   Dense(3, activation='softmax')  # Output layer with 3 classes\n",
    "])"
   ]
  },
  {
   "cell_type": "code",
   "execution_count": 5,
   "metadata": {},
   "outputs": [],
   "source": [
    "model.compile(loss='categorical_crossentropy', optimizer='adam', metrics=['accuracy'])"
   ]
  },
  {
   "cell_type": "markdown",
   "metadata": {},
   "source": [
    "Convert y_train and y_test to one-hot encoded vectors for categorical classification\n"
   ]
  },
  {
   "cell_type": "code",
   "execution_count": 6,
   "metadata": {},
   "outputs": [],
   "source": [
    "y_train_cat = tf.keras.utils.to_categorical(y_train)\n",
    "y_test_cat = tf.keras.utils.to_categorical(y_test)\n"
   ]
  },
  {
   "cell_type": "markdown",
   "metadata": {},
   "source": [
    "Training the model\n"
   ]
  },
  {
   "cell_type": "code",
   "execution_count": 7,
   "metadata": {},
   "outputs": [
    {
     "name": "stdout",
     "output_type": "stream",
     "text": [
      "Epoch 1/100\n"
     ]
    },
    {
     "name": "stdout",
     "output_type": "stream",
     "text": [
      "12/12 [==============================] - 2s 7ms/step - loss: 1.3147 - accuracy: 0.3417\n",
      "Epoch 2/100\n",
      "12/12 [==============================] - 0s 3ms/step - loss: 1.0657 - accuracy: 0.5417\n",
      "Epoch 3/100\n",
      "12/12 [==============================] - 0s 4ms/step - loss: 0.8866 - accuracy: 0.6833\n",
      "Epoch 4/100\n",
      "12/12 [==============================] - 0s 5ms/step - loss: 0.7737 - accuracy: 0.8083\n",
      "Epoch 5/100\n",
      "12/12 [==============================] - 0s 6ms/step - loss: 0.7196 - accuracy: 0.8500\n",
      "Epoch 6/100\n",
      "12/12 [==============================] - 0s 5ms/step - loss: 0.6791 - accuracy: 0.7250\n",
      "Epoch 7/100\n",
      "12/12 [==============================] - 0s 5ms/step - loss: 0.6416 - accuracy: 0.7167\n",
      "Epoch 8/100\n",
      "12/12 [==============================] - 0s 7ms/step - loss: 0.6034 - accuracy: 0.7833\n",
      "Epoch 9/100\n",
      "12/12 [==============================] - 0s 7ms/step - loss: 0.5704 - accuracy: 0.8167\n",
      "Epoch 10/100\n",
      "12/12 [==============================] - 0s 5ms/step - loss: 0.5416 - accuracy: 0.8417\n",
      "Epoch 11/100\n",
      "12/12 [==============================] - 0s 4ms/step - loss: 0.5199 - accuracy: 0.8083\n",
      "Epoch 12/100\n",
      "12/12 [==============================] - 0s 4ms/step - loss: 0.4904 - accuracy: 0.8833\n",
      "Epoch 13/100\n",
      "12/12 [==============================] - 0s 3ms/step - loss: 0.4654 - accuracy: 0.9167\n",
      "Epoch 14/100\n",
      "12/12 [==============================] - 0s 3ms/step - loss: 0.4427 - accuracy: 0.9167\n",
      "Epoch 15/100\n",
      "12/12 [==============================] - 0s 3ms/step - loss: 0.4205 - accuracy: 0.9333\n",
      "Epoch 16/100\n",
      "12/12 [==============================] - 0s 3ms/step - loss: 0.4026 - accuracy: 0.9250\n",
      "Epoch 17/100\n",
      "12/12 [==============================] - 0s 5ms/step - loss: 0.3847 - accuracy: 0.9500\n",
      "Epoch 18/100\n",
      "12/12 [==============================] - 0s 4ms/step - loss: 0.3722 - accuracy: 0.9667\n",
      "Epoch 19/100\n",
      "12/12 [==============================] - 0s 3ms/step - loss: 0.3562 - accuracy: 0.9500\n",
      "Epoch 20/100\n",
      "12/12 [==============================] - 0s 4ms/step - loss: 0.3434 - accuracy: 0.9500\n",
      "Epoch 21/100\n",
      "12/12 [==============================] - 0s 3ms/step - loss: 0.3298 - accuracy: 0.9583\n",
      "Epoch 22/100\n",
      "12/12 [==============================] - 0s 5ms/step - loss: 0.3217 - accuracy: 0.9583\n",
      "Epoch 23/100\n",
      "12/12 [==============================] - 0s 6ms/step - loss: 0.3079 - accuracy: 0.9583\n",
      "Epoch 24/100\n",
      "12/12 [==============================] - 0s 4ms/step - loss: 0.2965 - accuracy: 0.9667\n",
      "Epoch 25/100\n",
      "12/12 [==============================] - 0s 5ms/step - loss: 0.2869 - accuracy: 0.9667\n",
      "Epoch 26/100\n",
      "12/12 [==============================] - 0s 5ms/step - loss: 0.2764 - accuracy: 0.9750\n",
      "Epoch 27/100\n",
      "12/12 [==============================] - 0s 5ms/step - loss: 0.2652 - accuracy: 0.9667\n",
      "Epoch 28/100\n",
      "12/12 [==============================] - 0s 8ms/step - loss: 0.2589 - accuracy: 0.9667\n",
      "Epoch 29/100\n",
      "12/12 [==============================] - 0s 7ms/step - loss: 0.2494 - accuracy: 0.9667\n",
      "Epoch 30/100\n",
      "12/12 [==============================] - 0s 6ms/step - loss: 0.2452 - accuracy: 0.9667\n",
      "Epoch 31/100\n",
      "12/12 [==============================] - 0s 5ms/step - loss: 0.2394 - accuracy: 0.9750\n",
      "Epoch 32/100\n",
      "12/12 [==============================] - 0s 4ms/step - loss: 0.2269 - accuracy: 0.9667\n",
      "Epoch 33/100\n",
      "12/12 [==============================] - 0s 4ms/step - loss: 0.2214 - accuracy: 0.9667\n",
      "Epoch 34/100\n",
      "12/12 [==============================] - 0s 4ms/step - loss: 0.2137 - accuracy: 0.9667\n",
      "Epoch 35/100\n",
      "12/12 [==============================] - 0s 4ms/step - loss: 0.2089 - accuracy: 0.9750\n",
      "Epoch 36/100\n",
      "12/12 [==============================] - 0s 5ms/step - loss: 0.2026 - accuracy: 0.9667\n",
      "Epoch 37/100\n",
      "12/12 [==============================] - 0s 4ms/step - loss: 0.1973 - accuracy: 0.9667\n",
      "Epoch 38/100\n",
      "12/12 [==============================] - 0s 3ms/step - loss: 0.1922 - accuracy: 0.9750\n",
      "Epoch 39/100\n",
      "12/12 [==============================] - 0s 4ms/step - loss: 0.1906 - accuracy: 0.9667\n",
      "Epoch 40/100\n",
      "12/12 [==============================] - 0s 3ms/step - loss: 0.1814 - accuracy: 0.9583\n",
      "Epoch 41/100\n",
      "12/12 [==============================] - 0s 4ms/step - loss: 0.1834 - accuracy: 0.9667\n",
      "Epoch 42/100\n",
      "12/12 [==============================] - 0s 3ms/step - loss: 0.1746 - accuracy: 0.9750\n",
      "Epoch 43/100\n",
      "12/12 [==============================] - 0s 4ms/step - loss: 0.1720 - accuracy: 0.9667\n",
      "Epoch 44/100\n",
      "12/12 [==============================] - 0s 3ms/step - loss: 0.1652 - accuracy: 0.9667\n",
      "Epoch 45/100\n",
      "12/12 [==============================] - 0s 3ms/step - loss: 0.1604 - accuracy: 0.9667\n",
      "Epoch 46/100\n",
      "12/12 [==============================] - 0s 3ms/step - loss: 0.1566 - accuracy: 0.9750\n",
      "Epoch 47/100\n",
      "12/12 [==============================] - 0s 3ms/step - loss: 0.1535 - accuracy: 0.9750\n",
      "Epoch 48/100\n",
      "12/12 [==============================] - 0s 3ms/step - loss: 0.1506 - accuracy: 0.9667\n",
      "Epoch 49/100\n",
      "12/12 [==============================] - 0s 2ms/step - loss: 0.1536 - accuracy: 0.9667\n",
      "Epoch 50/100\n",
      "12/12 [==============================] - 0s 3ms/step - loss: 0.1453 - accuracy: 0.9583\n",
      "Epoch 51/100\n",
      "12/12 [==============================] - 0s 2ms/step - loss: 0.1434 - accuracy: 0.9583\n",
      "Epoch 52/100\n",
      "12/12 [==============================] - 0s 3ms/step - loss: 0.1412 - accuracy: 0.9667\n",
      "Epoch 53/100\n",
      "12/12 [==============================] - 0s 3ms/step - loss: 0.1430 - accuracy: 0.9500\n",
      "Epoch 54/100\n",
      "12/12 [==============================] - 0s 2ms/step - loss: 0.1355 - accuracy: 0.9667\n",
      "Epoch 55/100\n",
      "12/12 [==============================] - 0s 3ms/step - loss: 0.1326 - accuracy: 0.9667\n",
      "Epoch 56/100\n",
      "12/12 [==============================] - 0s 3ms/step - loss: 0.1303 - accuracy: 0.9667\n",
      "Epoch 57/100\n",
      "12/12 [==============================] - 0s 3ms/step - loss: 0.1270 - accuracy: 0.9750\n",
      "Epoch 58/100\n",
      "12/12 [==============================] - 0s 3ms/step - loss: 0.1257 - accuracy: 0.9667\n",
      "Epoch 59/100\n",
      "12/12 [==============================] - 0s 31ms/step - loss: 0.1229 - accuracy: 0.9667\n",
      "Epoch 60/100\n",
      "12/12 [==============================] - 1s 46ms/step - loss: 0.1238 - accuracy: 0.9667\n",
      "Epoch 61/100\n",
      "12/12 [==============================] - 0s 35ms/step - loss: 0.1200 - accuracy: 0.9667\n",
      "Epoch 62/100\n",
      "12/12 [==============================] - 0s 32ms/step - loss: 0.1185 - accuracy: 0.9750\n",
      "Epoch 63/100\n",
      "12/12 [==============================] - 0s 36ms/step - loss: 0.1154 - accuracy: 0.9667\n",
      "Epoch 64/100\n",
      "12/12 [==============================] - 0s 28ms/step - loss: 0.1161 - accuracy: 0.9583\n",
      "Epoch 65/100\n",
      "12/12 [==============================] - 0s 24ms/step - loss: 0.1142 - accuracy: 0.9750\n",
      "Epoch 66/100\n",
      "12/12 [==============================] - 1s 46ms/step - loss: 0.1140 - accuracy: 0.9583\n",
      "Epoch 67/100\n",
      "12/12 [==============================] - 1s 53ms/step - loss: 0.1091 - accuracy: 0.9667\n",
      "Epoch 68/100\n",
      "12/12 [==============================] - 1s 53ms/step - loss: 0.1076 - accuracy: 0.9667\n",
      "Epoch 69/100\n",
      "12/12 [==============================] - 1s 58ms/step - loss: 0.1087 - accuracy: 0.9667\n",
      "Epoch 70/100\n",
      "12/12 [==============================] - 1s 53ms/step - loss: 0.1049 - accuracy: 0.9667\n",
      "Epoch 71/100\n",
      "12/12 [==============================] - 1s 46ms/step - loss: 0.1060 - accuracy: 0.9583\n",
      "Epoch 72/100\n",
      "12/12 [==============================] - 0s 26ms/step - loss: 0.1093 - accuracy: 0.9750\n",
      "Epoch 73/100\n",
      "12/12 [==============================] - 0s 8ms/step - loss: 0.1024 - accuracy: 0.9667\n",
      "Epoch 74/100\n",
      "12/12 [==============================] - 0s 9ms/step - loss: 0.1015 - accuracy: 0.9750\n",
      "Epoch 75/100\n",
      "12/12 [==============================] - 0s 8ms/step - loss: 0.1006 - accuracy: 0.9667\n",
      "Epoch 76/100\n",
      "12/12 [==============================] - 0s 6ms/step - loss: 0.1050 - accuracy: 0.9667\n",
      "Epoch 77/100\n",
      "12/12 [==============================] - 0s 6ms/step - loss: 0.0972 - accuracy: 0.9667\n",
      "Epoch 78/100\n",
      "12/12 [==============================] - 0s 8ms/step - loss: 0.1004 - accuracy: 0.9667\n",
      "Epoch 79/100\n",
      "12/12 [==============================] - 0s 13ms/step - loss: 0.0973 - accuracy: 0.9667\n",
      "Epoch 80/100\n",
      "12/12 [==============================] - 0s 6ms/step - loss: 0.0965 - accuracy: 0.9667\n",
      "Epoch 81/100\n",
      "12/12 [==============================] - 0s 7ms/step - loss: 0.0956 - accuracy: 0.9750\n",
      "Epoch 82/100\n",
      "12/12 [==============================] - 0s 11ms/step - loss: 0.0924 - accuracy: 0.9667\n",
      "Epoch 83/100\n",
      "12/12 [==============================] - 0s 12ms/step - loss: 0.0939 - accuracy: 0.9667\n",
      "Epoch 84/100\n",
      "12/12 [==============================] - 0s 10ms/step - loss: 0.0926 - accuracy: 0.9667\n",
      "Epoch 85/100\n",
      "12/12 [==============================] - 0s 7ms/step - loss: 0.0924 - accuracy: 0.9750\n",
      "Epoch 86/100\n",
      "12/12 [==============================] - 0s 12ms/step - loss: 0.0901 - accuracy: 0.9667\n",
      "Epoch 87/100\n",
      "12/12 [==============================] - 0s 13ms/step - loss: 0.0913 - accuracy: 0.9583\n",
      "Epoch 88/100\n",
      "12/12 [==============================] - 0s 13ms/step - loss: 0.0898 - accuracy: 0.9667\n",
      "Epoch 89/100\n",
      "12/12 [==============================] - 0s 16ms/step - loss: 0.0951 - accuracy: 0.9750\n",
      "Epoch 90/100\n",
      "12/12 [==============================] - 0s 8ms/step - loss: 0.0945 - accuracy: 0.9667\n",
      "Epoch 91/100\n",
      "12/12 [==============================] - 0s 21ms/step - loss: 0.0892 - accuracy: 0.9667\n",
      "Epoch 92/100\n",
      "12/12 [==============================] - 0s 10ms/step - loss: 0.0894 - accuracy: 0.9667\n",
      "Epoch 93/100\n",
      "12/12 [==============================] - 0s 7ms/step - loss: 0.0874 - accuracy: 0.9583\n",
      "Epoch 94/100\n",
      "12/12 [==============================] - 0s 10ms/step - loss: 0.0851 - accuracy: 0.9750\n",
      "Epoch 95/100\n",
      "12/12 [==============================] - 0s 8ms/step - loss: 0.0843 - accuracy: 0.9750\n",
      "Epoch 96/100\n",
      "12/12 [==============================] - 0s 12ms/step - loss: 0.0909 - accuracy: 0.9750\n",
      "Epoch 97/100\n",
      "12/12 [==============================] - 0s 8ms/step - loss: 0.0821 - accuracy: 0.9750\n",
      "Epoch 98/100\n",
      "12/12 [==============================] - 0s 11ms/step - loss: 0.0880 - accuracy: 0.9750\n",
      "Epoch 99/100\n",
      "12/12 [==============================] - 0s 15ms/step - loss: 0.0943 - accuracy: 0.9667\n",
      "Epoch 100/100\n",
      "12/12 [==============================] - 0s 8ms/step - loss: 0.0821 - accuracy: 0.9833\n"
     ]
    },
    {
     "data": {
      "text/plain": [
       "<keras.src.callbacks.History at 0x7f12a42e4e80>"
      ]
     },
     "execution_count": 7,
     "metadata": {},
     "output_type": "execute_result"
    }
   ],
   "source": [
    "model.fit(X_train, y_train_cat, epochs=100, batch_size=10)"
   ]
  },
  {
   "cell_type": "markdown",
   "metadata": {},
   "source": [
    "Evaluate the model on the testing set\n"
   ]
  },
  {
   "cell_type": "code",
   "execution_count": 8,
   "metadata": {},
   "outputs": [
    {
     "name": "stdout",
     "output_type": "stream",
     "text": [
      "1/1 [==============================] - 1s 643ms/step - loss: 0.0865 - accuracy: 1.0000\n"
     ]
    }
   ],
   "source": [
    "loss, accuracy = model.evaluate(X_test, y_test_cat)"
   ]
  },
  {
   "cell_type": "code",
   "execution_count": 9,
   "metadata": {},
   "outputs": [
    {
     "name": "stdout",
     "output_type": "stream",
     "text": [
      "Test loss: 0.0864974781870842\n",
      "Test accuracy: 1.0\n"
     ]
    }
   ],
   "source": [
    "print('Test loss:', loss)\n",
    "print('Test accuracy:', accuracy)"
   ]
  },
  {
   "cell_type": "markdown",
   "metadata": {},
   "source": [
    "Let's predict on new data and evaluate it's performance"
   ]
  },
  {
   "cell_type": "code",
   "execution_count": 10,
   "metadata": {},
   "outputs": [
    {
     "name": "stdout",
     "output_type": "stream",
     "text": [
      "1/1 [==============================] - 0s 314ms/step\n",
      "[[1.8442484e-03 9.6929741e-01 2.8858317e-02]\n",
      " [9.9779201e-01 2.2080548e-03 2.4984113e-08]\n",
      " [2.6506615e-09 6.1364647e-04 9.9938637e-01]\n",
      " [1.2237345e-03 9.1985220e-01 7.8924000e-02]\n",
      " [1.2472883e-03 9.7598332e-01 2.2769479e-02]\n",
      " [9.9548447e-01 4.5152665e-03 1.2621510e-07]\n",
      " [1.1465858e-02 9.8511994e-01 3.4141969e-03]\n",
      " [1.4210746e-05 1.3784046e-01 8.6214530e-01]\n",
      " [5.6605379e-04 6.6986942e-01 3.2956439e-01]\n",
      " [6.4015798e-03 9.8834670e-01 5.2515427e-03]\n",
      " [6.6756365e-05 3.3251971e-01 6.6741347e-01]\n",
      " [9.9468625e-01 5.3133322e-03 3.2194083e-07]\n",
      " [9.9775231e-01 2.2478099e-03 4.0808590e-08]\n",
      " [9.9517810e-01 4.8216097e-03 2.3570757e-07]\n",
      " [9.9793583e-01 2.0641172e-03 3.4524739e-08]\n",
      " [1.0637869e-03 9.5853293e-01 4.0403202e-02]\n",
      " [1.4428204e-07 4.8085586e-03 9.9519128e-01]\n",
      " [6.5060793e-03 9.8521650e-01 8.2774153e-03]\n",
      " [1.6726776e-03 9.2791885e-01 7.0408404e-02]\n",
      " [1.4864924e-07 4.2011617e-03 9.9579871e-01]\n",
      " [9.9455082e-01 5.4488778e-03 2.8896986e-07]\n",
      " [1.3929605e-04 4.0275455e-01 5.9710628e-01]\n",
      " [9.9428660e-01 5.7132342e-03 2.1852803e-07]\n",
      " [3.5309671e-07 7.7783689e-03 9.9222130e-01]\n",
      " [2.7385098e-05 4.9969882e-01 5.0027388e-01]\n",
      " [3.2107105e-06 4.3524258e-02 9.5647246e-01]\n",
      " [1.1950626e-06 1.9789474e-02 9.8020935e-01]\n",
      " [1.9236050e-07 7.4900915e-03 9.9250972e-01]\n",
      " [9.9262005e-01 7.3795370e-03 5.3135420e-07]\n",
      " [9.9378926e-01 6.2103919e-03 3.5835004e-07]]\n"
     ]
    }
   ],
   "source": [
    "# model.predict() returns the probability for each class\n",
    "y_pred_prob = model.predict(X_test)\n",
    "print(y_pred_prob)"
   ]
  },
  {
   "cell_type": "code",
   "execution_count": 11,
   "metadata": {},
   "outputs": [
    {
     "name": "stdout",
     "output_type": "stream",
     "text": [
      "tf.Tensor([1 0 2 1 1 0 1 2 1 1 2 0 0 0 0 1 2 1 1 2 0 2 0 2 2 2 2 2 0 0], shape=(30,), dtype=int64)\n"
     ]
    }
   ],
   "source": [
    "#converting into labels for predicted probabilitic value\n",
    "y_pred = tf.argmax(y_pred_prob, axis=1)\n",
    "print(y_pred)"
   ]
  },
  {
   "cell_type": "code",
   "execution_count": 13,
   "metadata": {},
   "outputs": [
    {
     "name": "stdout",
     "output_type": "stream",
     "text": [
      "tf.Tensor([1 0 2 1 1 0 1 2 1 1 2 0 0 0 0 1 2 1 1 2 0 2 0 2 2 2 2 2 0 0], shape=(30,), dtype=int64)\n"
     ]
    }
   ],
   "source": [
    "#Actual label of target\n",
    "y_test_actual = tf.argmax(y_test_cat, axis=1)\n",
    "print(y_test_actual)"
   ]
  },
  {
   "cell_type": "code",
   "execution_count": 14,
   "metadata": {},
   "outputs": [
    {
     "name": "stdout",
     "output_type": "stream",
     "text": [
      "\n",
      "Accuracy: 1.0\n",
      "\n",
      "Classification Report:\n",
      "              precision    recall  f1-score   support\n",
      "\n",
      "           0       1.00      1.00      1.00        10\n",
      "           1       1.00      1.00      1.00         9\n",
      "           2       1.00      1.00      1.00        11\n",
      "\n",
      "    accuracy                           1.00        30\n",
      "   macro avg       1.00      1.00      1.00        30\n",
      "weighted avg       1.00      1.00      1.00        30\n",
      "\n",
      "\n",
      "Confusion Matrix:\n",
      "[[10  0  0]\n",
      " [ 0  9  0]\n",
      " [ 0  0 11]]\n"
     ]
    }
   ],
   "source": [
    "from sklearn.metrics import accuracy_score, classification_report, confusion_matrix\n",
    "\n",
    "# Calculate accuracy\n",
    "accuracy = accuracy_score(y_test_actual, y_pred)\n",
    "print(\"\\nAccuracy:\", accuracy)\n",
    "\n",
    "# Display classification report\n",
    "print(\"\\nClassification Report:\")\n",
    "print(classification_report(y_test_actual, y_pred))\n",
    "\n",
    "# Display confusion matrix\n",
    "print(\"\\nConfusion Matrix:\")\n",
    "print(confusion_matrix(y_test_actual, y_pred))"
   ]
  },
  {
   "cell_type": "markdown",
   "metadata": {},
   "source": [
    "<h4> In above specific confusion matrix:</h4>\n",
    "\n",
    "- The model predicted Class 1 for 10 instances, and all of them actually belong to Class 1.\n",
    "\n",
    "- The model predicted Class 2 for 9 instances, and all of them actually belong to Class 2.\n",
    "\n",
    "- The model predicted Class 3 for 11 instances, and all of them actually belong to Class 3."
   ]
  }
 ],
 "metadata": {
  "kernelspec": {
   "display_name": "Python 3",
   "language": "python",
   "name": "python3"
  },
  "language_info": {
   "codemirror_mode": {
    "name": "ipython",
    "version": 3
   },
   "file_extension": ".py",
   "mimetype": "text/x-python",
   "name": "python",
   "nbconvert_exporter": "python",
   "pygments_lexer": "ipython3",
   "version": "3.10.13"
  }
 },
 "nbformat": 4,
 "nbformat_minor": 2
}
